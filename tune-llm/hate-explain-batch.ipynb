{
 "cells": [
  {
   "cell_type": "code",
   "source": [
    "! pip install boto3 == 1.28.53 transformers ekphrasis"
   ],
   "metadata": {
    "colab": {
     "base_uri": "https://localhost:8080/"
    },
    "id": "UrDYUkvUu2oz",
    "outputId": "62ba845c-92dd-411f-8ad2-a1556b69d338"
   },
   "execution_count": 1,
   "outputs": [
    {
     "output_type": "stream",
     "name": "stdout",
     "text": [
      "Collecting boto3==1.28.53\n",
      "  Downloading boto3-1.28.53-py3-none-any.whl (135 kB)\n",
      "\u001B[?25l     \u001B[90m━━━━━━━━━━━━━━━━━━━━━━━━━━━━━━━━━━━━━━━━\u001B[0m \u001B[32m0.0/135.8 kB\u001B[0m \u001B[31m?\u001B[0m eta \u001B[36m-:--:--\u001B[0m\r\u001B[2K     \u001B[91m━━━━━━━━━━━━━━━━━━━━━━━━━━━━━━━━━━━━━━\u001B[0m\u001B[90m╺\u001B[0m \u001B[32m133.1/135.8 kB\u001B[0m \u001B[31m3.7 MB/s\u001B[0m eta \u001B[36m0:00:01\u001B[0m\r\u001B[2K     \u001B[90m━━━━━━━━━━━━━━━━━━━━━━━━━━━━━━━━━━━━━━━\u001B[0m \u001B[32m135.8/135.8 kB\u001B[0m \u001B[31m3.1 MB/s\u001B[0m eta \u001B[36m0:00:00\u001B[0m\n",
      "\u001B[?25hCollecting transformers\n",
      "  Downloading transformers-4.33.3-py3-none-any.whl (7.6 MB)\n",
      "\u001B[2K     \u001B[90m━━━━━━━━━━━━━━━━━━━━━━━━━━━━━━━━━━━━━━━━\u001B[0m \u001B[32m7.6/7.6 MB\u001B[0m \u001B[31m20.3 MB/s\u001B[0m eta \u001B[36m0:00:00\u001B[0m\n",
      "\u001B[?25hCollecting ekphrasis\n",
      "  Downloading ekphrasis-0.5.4-py3-none-any.whl (83 kB)\n",
      "\u001B[2K     \u001B[90m━━━━━━━━━━━━━━━━━━━━━━━━━━━━━━━━━━━━━━━━\u001B[0m \u001B[32m83.8/83.8 kB\u001B[0m \u001B[31m13.1 MB/s\u001B[0m eta \u001B[36m0:00:00\u001B[0m\n",
      "\u001B[?25hCollecting botocore<1.32.0,>=1.31.53 (from boto3==1.28.53)\n",
      "  Downloading botocore-1.31.57-py3-none-any.whl (11.2 MB)\n",
      "\u001B[2K     \u001B[90m━━━━━━━━━━━━━━━━━━━━━━━━━━━━━━━━━━━━━━━\u001B[0m \u001B[32m11.2/11.2 MB\u001B[0m \u001B[31m109.5 MB/s\u001B[0m eta \u001B[36m0:00:00\u001B[0m\n",
      "\u001B[?25hCollecting jmespath<2.0.0,>=0.7.1 (from boto3==1.28.53)\n",
      "  Downloading jmespath-1.0.1-py3-none-any.whl (20 kB)\n",
      "Collecting s3transfer<0.7.0,>=0.6.0 (from boto3==1.28.53)\n",
      "  Downloading s3transfer-0.6.2-py3-none-any.whl (79 kB)\n",
      "\u001B[2K     \u001B[90m━━━━━━━━━━━━━━━━━━━━━━━━━━━━━━━━━━━━━━━━\u001B[0m \u001B[32m79.8/79.8 kB\u001B[0m \u001B[31m12.7 MB/s\u001B[0m eta \u001B[36m0:00:00\u001B[0m\n",
      "\u001B[?25hRequirement already satisfied: filelock in /usr/local/lib/python3.10/dist-packages (from transformers) (3.12.2)\n",
      "Collecting huggingface-hub<1.0,>=0.15.1 (from transformers)\n",
      "  Downloading huggingface_hub-0.17.3-py3-none-any.whl (295 kB)\n",
      "\u001B[2K     \u001B[90m━━━━━━━━━━━━━━━━━━━━━━━━━━━━━━━━━━━━━━\u001B[0m \u001B[32m295.0/295.0 kB\u001B[0m \u001B[31m38.5 MB/s\u001B[0m eta \u001B[36m0:00:00\u001B[0m\n",
      "\u001B[?25hRequirement already satisfied: numpy>=1.17 in /usr/local/lib/python3.10/dist-packages (from transformers) (1.23.5)\n",
      "Requirement already satisfied: packaging>=20.0 in /usr/local/lib/python3.10/dist-packages (from transformers) (23.1)\n",
      "Requirement already satisfied: pyyaml>=5.1 in /usr/local/lib/python3.10/dist-packages (from transformers) (6.0.1)\n",
      "Requirement already satisfied: regex!=2019.12.17 in /usr/local/lib/python3.10/dist-packages (from transformers) (2023.6.3)\n",
      "Requirement already satisfied: requests in /usr/local/lib/python3.10/dist-packages (from transformers) (2.31.0)\n",
      "Collecting tokenizers!=0.11.3,<0.14,>=0.11.1 (from transformers)\n",
      "  Downloading tokenizers-0.13.3-cp310-cp310-manylinux_2_17_x86_64.manylinux2014_x86_64.whl (7.8 MB)\n",
      "\u001B[2K     \u001B[90m━━━━━━━━━━━━━━━━━━━━━━━━━━━━━━━━━━━━━━━━\u001B[0m \u001B[32m7.8/7.8 MB\u001B[0m \u001B[31m80.8 MB/s\u001B[0m eta \u001B[36m0:00:00\u001B[0m\n",
      "\u001B[?25hCollecting safetensors>=0.3.1 (from transformers)\n",
      "  Downloading safetensors-0.3.3-cp310-cp310-manylinux_2_17_x86_64.manylinux2014_x86_64.whl (1.3 MB)\n",
      "\u001B[2K     \u001B[90m━━━━━━━━━━━━━━━━━━━━━━━━━━━━━━━━━━━━━━━━\u001B[0m \u001B[32m1.3/1.3 MB\u001B[0m \u001B[31m86.8 MB/s\u001B[0m eta \u001B[36m0:00:00\u001B[0m\n",
      "\u001B[?25hRequirement already satisfied: tqdm>=4.27 in /usr/local/lib/python3.10/dist-packages (from transformers) (4.66.1)\n",
      "Requirement already satisfied: termcolor in /usr/local/lib/python3.10/dist-packages (from ekphrasis) (2.3.0)\n",
      "Collecting colorama (from ekphrasis)\n",
      "  Downloading colorama-0.4.6-py2.py3-none-any.whl (25 kB)\n",
      "Collecting ujson (from ekphrasis)\n",
      "  Downloading ujson-5.8.0-cp310-cp310-manylinux_2_17_x86_64.manylinux2014_x86_64.whl (53 kB)\n",
      "\u001B[2K     \u001B[90m━━━━━━━━━━━━━━━━━━━━━━━━━━━━━━━━━━━━━━━━\u001B[0m \u001B[32m53.9/53.9 kB\u001B[0m \u001B[31m7.9 MB/s\u001B[0m eta \u001B[36m0:00:00\u001B[0m\n",
      "\u001B[?25hRequirement already satisfied: matplotlib in /usr/local/lib/python3.10/dist-packages (from ekphrasis) (3.7.1)\n",
      "Requirement already satisfied: nltk in /usr/local/lib/python3.10/dist-packages (from ekphrasis) (3.8.1)\n",
      "Collecting ftfy (from ekphrasis)\n",
      "  Downloading ftfy-6.1.1-py3-none-any.whl (53 kB)\n",
      "\u001B[2K     \u001B[90m━━━━━━━━━━━━━━━━━━━━━━━━━━━━━━━━━━━━━━━━\u001B[0m \u001B[32m53.1/53.1 kB\u001B[0m \u001B[31m8.3 MB/s\u001B[0m eta \u001B[36m0:00:00\u001B[0m\n",
      "\u001B[?25hRequirement already satisfied: python-dateutil<3.0.0,>=2.1 in /usr/local/lib/python3.10/dist-packages (from botocore<1.32.0,>=1.31.53->boto3==1.28.53) (2.8.2)\n",
      "Collecting urllib3<1.27,>=1.25.4 (from botocore<1.32.0,>=1.31.53->boto3==1.28.53)\n",
      "  Downloading urllib3-1.26.16-py2.py3-none-any.whl (143 kB)\n",
      "\u001B[2K     \u001B[90m━━━━━━━━━━━━━━━━━━━━━━━━━━━━━━━━━━━━━━\u001B[0m \u001B[32m143.1/143.1 kB\u001B[0m \u001B[31m21.7 MB/s\u001B[0m eta \u001B[36m0:00:00\u001B[0m\n",
      "\u001B[?25hRequirement already satisfied: fsspec in /usr/local/lib/python3.10/dist-packages (from huggingface-hub<1.0,>=0.15.1->transformers) (2023.6.0)\n",
      "Requirement already satisfied: typing-extensions>=3.7.4.3 in /usr/local/lib/python3.10/dist-packages (from huggingface-hub<1.0,>=0.15.1->transformers) (4.5.0)\n",
      "Requirement already satisfied: wcwidth>=0.2.5 in /usr/local/lib/python3.10/dist-packages (from ftfy->ekphrasis) (0.2.6)\n",
      "Requirement already satisfied: contourpy>=1.0.1 in /usr/local/lib/python3.10/dist-packages (from matplotlib->ekphrasis) (1.1.0)\n",
      "Requirement already satisfied: cycler>=0.10 in /usr/local/lib/python3.10/dist-packages (from matplotlib->ekphrasis) (0.11.0)\n",
      "Requirement already satisfied: fonttools>=4.22.0 in /usr/local/lib/python3.10/dist-packages (from matplotlib->ekphrasis) (4.42.1)\n",
      "Requirement already satisfied: kiwisolver>=1.0.1 in /usr/local/lib/python3.10/dist-packages (from matplotlib->ekphrasis) (1.4.5)\n",
      "Requirement already satisfied: pillow>=6.2.0 in /usr/local/lib/python3.10/dist-packages (from matplotlib->ekphrasis) (9.4.0)\n",
      "Requirement already satisfied: pyparsing>=2.3.1 in /usr/local/lib/python3.10/dist-packages (from matplotlib->ekphrasis) (3.1.1)\n",
      "Requirement already satisfied: click in /usr/local/lib/python3.10/dist-packages (from nltk->ekphrasis) (8.1.7)\n",
      "Requirement already satisfied: joblib in /usr/local/lib/python3.10/dist-packages (from nltk->ekphrasis) (1.3.2)\n",
      "Requirement already satisfied: charset-normalizer<4,>=2 in /usr/local/lib/python3.10/dist-packages (from requests->transformers) (3.2.0)\n",
      "Requirement already satisfied: idna<4,>=2.5 in /usr/local/lib/python3.10/dist-packages (from requests->transformers) (3.4)\n",
      "Requirement already satisfied: certifi>=2017.4.17 in /usr/local/lib/python3.10/dist-packages (from requests->transformers) (2023.7.22)\n",
      "Requirement already satisfied: six>=1.5 in /usr/local/lib/python3.10/dist-packages (from python-dateutil<3.0.0,>=2.1->botocore<1.32.0,>=1.31.53->boto3==1.28.53) (1.16.0)\n",
      "Installing collected packages: tokenizers, safetensors, urllib3, ujson, jmespath, ftfy, colorama, botocore, s3transfer, huggingface-hub, ekphrasis, transformers, boto3\n",
      "  Attempting uninstall: urllib3\n",
      "    Found existing installation: urllib3 2.0.4\n",
      "    Uninstalling urllib3-2.0.4:\n",
      "      Successfully uninstalled urllib3-2.0.4\n",
      "Successfully installed boto3-1.28.53 botocore-1.31.57 colorama-0.4.6 ekphrasis-0.5.4 ftfy-6.1.1 huggingface-hub-0.17.3 jmespath-1.0.1 s3transfer-0.6.2 safetensors-0.3.3 tokenizers-0.13.3 transformers-4.33.3 ujson-5.8.0 urllib3-1.26.16\n"
     ]
    }
   ]
  },
  {
   "cell_type": "code",
   "source": [
    "! pip install --upgrade urllib3 == 2.0.3"
   ],
   "metadata": {
    "colab": {
     "base_uri": "https://localhost:8080/"
    },
    "id": "syIxbgmKvbSf",
    "outputId": "86e39801-72dc-4f48-9352-973b037c389f"
   },
   "execution_count": 2,
   "outputs": [
    {
     "output_type": "stream",
     "name": "stdout",
     "text": [
      "Collecting urllib3==2.0.3\n",
      "  Downloading urllib3-2.0.3-py3-none-any.whl (123 kB)\n",
      "\u001B[?25l     \u001B[90m━━━━━━━━━━━━━━━━━━━━━━━━━━━━━━━━━━━━━━━━\u001B[0m \u001B[32m0.0/123.6 kB\u001B[0m \u001B[31m?\u001B[0m eta \u001B[36m-:--:--\u001B[0m\r\u001B[2K     \u001B[90m━━━━━━━━━━━━━━━━━━━━━━━━━━━━━━━━━━━━━━━\u001B[0m \u001B[32m123.6/123.6 kB\u001B[0m \u001B[31m3.4 MB/s\u001B[0m eta \u001B[36m0:00:00\u001B[0m\n",
      "\u001B[?25hInstalling collected packages: urllib3\n",
      "  Attempting uninstall: urllib3\n",
      "    Found existing installation: urllib3 1.26.16\n",
      "    Uninstalling urllib3-1.26.16:\n",
      "      Successfully uninstalled urllib3-1.26.16\n",
      "\u001B[31mERROR: pip's dependency resolver does not currently take into account all the packages that are installed. This behaviour is the source of the following dependency conflicts.\n",
      "botocore 1.31.57 requires urllib3<1.27,>=1.25.4, but you have urllib3 2.0.3 which is incompatible.\u001B[0m\u001B[31m\n",
      "\u001B[0mSuccessfully installed urllib3-2.0.3\n"
     ]
    }
   ]
  },
  {
   "cell_type": "code",
   "source": [
    "! git clone https://github.com/StepanTita/attattr.git\n",
    "! git clone https://github.com/hate-alert/HateXplain.git"
   ],
   "metadata": {
    "colab": {
     "base_uri": "https://localhost:8080/"
    },
    "id": "Gy9Vou8_0SVy",
    "outputId": "e9d9aa51-9f75-4cec-e568-8864b76a2e6b",
    "ExecuteTime": {
     "start_time": "2023-10-08T16:21:48.731138Z",
     "end_time": "2023-10-08T16:21:50.896473Z"
    }
   },
   "execution_count": 12,
   "outputs": [
    {
     "name": "stdout",
     "output_type": "stream",
     "text": [
      "Cloning into 'attattr'...\r\n",
      "remote: Enumerating objects: 56, done.\u001B[K\r\n",
      "remote: Counting objects: 100% (56/56), done.\u001B[K\r\n",
      "remote: Compressing objects: 100% (36/36), done.\u001B[K\r\n",
      "remote: Total 56 (delta 25), reused 46 (delta 19), pack-reused 0\u001B[K\r\n",
      "Receiving objects: 100% (56/56), 1.06 MiB | 8.96 MiB/s, done.\r\n",
      "Resolving deltas: 100% (25/25), done.\r\n",
      "Cloning into 'HateXplain'...\r\n",
      "remote: Enumerating objects: 414, done.\u001B[K\r\n",
      "remote: Counting objects: 100% (134/134), done.\u001B[K\r\n",
      "remote: Compressing objects: 100% (35/35), done.\u001B[K\r\n",
      "remote: Total 414 (delta 111), reused 106 (delta 99), pack-reused 280\u001B[K\r\n",
      "Receiving objects: 100% (414/414), 6.76 MiB | 19.07 MiB/s, done.\r\n",
      "Resolving deltas: 100% (229/229), done.\r\n"
     ]
    }
   ]
  },
  {
   "cell_type": "code",
   "execution_count": 1,
   "metadata": {
    "tags": [],
    "id": "LROEliPJuvWC",
    "ExecuteTime": {
     "start_time": "2023-10-08T16:52:37.734171Z",
     "end_time": "2023-10-08T16:52:37.737370Z"
    }
   },
   "outputs": [],
   "source": [
    "import sys\n",
    "\n",
    "sys.path.append('/content/attattr')\n",
    "sys.path.append('/Users/stepantytarenko/Sandbox/Projects')\n",
    "sys.path.append('/Users/stepantytarenko/Sandbox/Projects/HateXplain')"
   ]
  },
  {
   "cell_type": "code",
   "execution_count": 2,
   "metadata": {
    "ExecuteTime": {
     "start_time": "2023-10-08T16:52:37.962824Z",
     "end_time": "2023-10-08T16:52:48.588718Z"
    },
    "jupyter": {
     "outputs_hidden": false
    },
    "tags": [],
    "colab": {
     "base_uri": "https://localhost:8080/"
    },
    "id": "ntdEM8L8uvWD",
    "outputId": "64ea025f-ab81-4b04-8693-fb04c81c00d3"
   },
   "outputs": [
    {
     "name": "stdout",
     "output_type": "stream",
     "text": [
      "Intel MKL WARNING: Support of Intel(R) Streaming SIMD Extensions 4.2 (Intel(R) SSE4.2) enabled only processors has been deprecated. Intel oneAPI Math Kernel Library 2025.0 will require Intel(R) Advanced Vector Extensions (Intel(R) AVX) instructions.\n",
      "Intel MKL WARNING: Support of Intel(R) Streaming SIMD Extensions 4.2 (Intel(R) SSE4.2) enabled only processors has been deprecated. Intel oneAPI Math Kernel Library 2025.0 will require Intel(R) Advanced Vector Extensions (Intel(R) AVX) instructions.\n"
     ]
    },
    {
     "name": "stderr",
     "output_type": "stream",
     "text": [
      "/Users/stepantytarenko/opt/anaconda3/envs/minitorch/lib/python3.10/site-packages/ekphrasis/classes/tokenizer.py:225: FutureWarning: Possible nested set at position 2190\n",
      "  self.tok = re.compile(r\"({})\".format(\"|\".join(pipeline)))\n"
     ]
    },
    {
     "name": "stdout",
     "output_type": "stream",
     "text": [
      "Reading twitter - 1grams ...\n",
      "Reading twitter - 2grams ...\n"
     ]
    },
    {
     "name": "stderr",
     "output_type": "stream",
     "text": [
      "/Users/stepantytarenko/opt/anaconda3/envs/minitorch/lib/python3.10/site-packages/ekphrasis/classes/exmanager.py:14: FutureWarning: Possible nested set at position 42\n",
      "  regexes = {k.lower(): re.compile(self.expressions[k]) for k, v in\n"
     ]
    },
    {
     "name": "stdout",
     "output_type": "stream",
     "text": [
      "Reading english - 1grams ...\n"
     ]
    }
   ],
   "source": [
    "import matplotlib.pyplot as plt\n",
    "import numpy as np\n",
    "import torch\n",
    "import torch.nn as nn\n",
    "from torch.utils.data import TensorDataset, SequentialSampler, DataLoader\n",
    "from PIL import Image, ImageDraw\n",
    "\n",
    "from tqdm import tqdm\n",
    "\n",
    "from transformers import BertTokenizer, BertPreTrainedModel\n",
    "\n",
    "from HateXplain.TensorDataset.datsetSplitter import createDatasetSplit\n",
    "\n",
    "from pytorch_pretrained_bert.model_attr import BertPooler, BertModel"
   ]
  },
  {
   "cell_type": "code",
   "execution_count": 3,
   "metadata": {
    "tags": [],
    "id": "l5rmZPg4uvWD",
    "ExecuteTime": {
     "start_time": "2023-10-08T16:52:48.590952Z",
     "end_time": "2023-10-08T16:52:48.592454Z"
    }
   },
   "outputs": [],
   "source": [
    "def on_gpu(f):\n",
    "    def wrapper():\n",
    "        if torch.cuda.is_available():\n",
    "            return f()\n",
    "        else:\n",
    "            print('cuda unavailable')\n",
    "\n",
    "    return wrapper"
   ]
  },
  {
   "cell_type": "code",
   "execution_count": 4,
   "metadata": {
    "tags": [],
    "colab": {
     "base_uri": "https://localhost:8080/"
    },
    "id": "bCqNIg4_uvWD",
    "outputId": "33a77757-15d0-47a4-8b3c-9193ff68de8f",
    "ExecuteTime": {
     "start_time": "2023-10-08T16:52:48.595938Z",
     "end_time": "2023-10-08T16:52:48.597250Z"
    }
   },
   "outputs": [],
   "source": [
    "if torch.cuda.is_available():\n",
    "    ! pip install pynvml\n",
    "    from pynvml import *\n",
    "    from numba import cuda\n",
    "\n",
    "\n",
    "@on_gpu\n",
    "def print_gpu_utilization():\n",
    "    try:\n",
    "        nvmlInit()\n",
    "        handle = nvmlDeviceGetHandleByIndex(0)\n",
    "        info = nvmlDeviceGetMemoryInfo(handle)\n",
    "        print(f\"GPU memory occupied: {info.used // 1024 ** 2} MB.\")\n",
    "    except Exception as e:\n",
    "        print(e)\n",
    "\n",
    "\n",
    "@on_gpu\n",
    "def free_gpu_cache():\n",
    "    print(\"Initial GPU Usage\")\n",
    "    print_gpu_utilization()\n",
    "\n",
    "    torch.cuda.empty_cache()\n",
    "\n",
    "    print(\"GPU Usage after emptying the cache\")\n",
    "    print_gpu_utilization()"
   ]
  },
  {
   "cell_type": "code",
   "execution_count": 5,
   "metadata": {
    "tags": [],
    "colab": {
     "base_uri": "https://localhost:8080/"
    },
    "id": "a7DVJ0NCuvWE",
    "outputId": "27c96c34-7a5e-4781-b49f-54908a6e1505",
    "ExecuteTime": {
     "start_time": "2023-10-08T16:52:48.599372Z",
     "end_time": "2023-10-08T16:52:48.601611Z"
    }
   },
   "outputs": [
    {
     "name": "stdout",
     "output_type": "stream",
     "text": [
      "cuda unavailable\n",
      "cuda unavailable\n"
     ]
    }
   ],
   "source": [
    "print_gpu_utilization()\n",
    "free_gpu_cache()"
   ]
  },
  {
   "cell_type": "code",
   "execution_count": 6,
   "metadata": {
    "ExecuteTime": {
     "start_time": "2023-10-08T16:52:48.602367Z",
     "end_time": "2023-10-08T16:52:48.604235Z"
    },
    "jupyter": {
     "outputs_hidden": false
    },
    "tags": [],
    "id": "P_FXPsH4uvWE"
   },
   "outputs": [],
   "source": [
    "device = torch.device('cuda' if torch.cuda.is_available() else 'cpu')\n",
    "n_gpu = torch.cuda.device_count()"
   ]
  },
  {
   "cell_type": "code",
   "execution_count": 7,
   "metadata": {
    "ExecuteTime": {
     "start_time": "2023-10-08T16:52:48.605661Z",
     "end_time": "2023-10-08T16:52:48.607214Z"
    },
    "jupyter": {
     "outputs_hidden": false
    },
    "tags": [],
    "id": "I5Ht8YMRuvWE"
   },
   "outputs": [],
   "source": [
    "BATCH_SIZE = 2\n",
    "NUM_BATCH = 5\n",
    "\n",
    "MAX_SEQ_LEN = 128\n",
    "\n",
    "num_layer = 12\n",
    "num_head = 12"
   ]
  },
  {
   "cell_type": "code",
   "execution_count": 8,
   "metadata": {
    "ExecuteTime": {
     "start_time": "2023-10-08T16:52:48.608335Z",
     "end_time": "2023-10-08T16:52:48.924790Z"
    },
    "jupyter": {
     "outputs_hidden": false
    },
    "tags": [],
    "colab": {
     "base_uri": "https://localhost:8080/",
     "height": 145,
     "referenced_widgets": [
      "35271b59b6bf4f709059d9783d3ae724",
      "752636f5bb84499e8f64c287fad81327",
      "379b921cbb3f45f28a85d85d4e7dd947",
      "2bf09ce13e2744678cd24977cf06da5e",
      "c71b796b3856484497114f6006b6cbe2",
      "31063f4fd2784d15bf0fdf85079096fc",
      "843da094ee8e4535a53369cbe8e15762",
      "d6bdfbc0f3cc440fb7b4db21e45d2d3b",
      "5b860badd3444323ab0e7fdeabf44700",
      "20d36d229d3848909becf0963e408eaf",
      "ea88b35c924e43c39340bf3264f0f2f2",
      "6f58340c1e6044f4b398aef8c94e00fe",
      "6f14da6ce00d4521927d4cad65c60ae0",
      "c93454a0411448469abca1b93e210efc",
      "19f44fef248a403d82cf6bb8e34ffb6d",
      "451ca7f6ed824d2cb16132f14bad4391",
      "94f76b6aeb2a44bdb5cdff672c05215d",
      "d072df93ae9f49caa99156a68cea06fa",
      "40ce00a01d484777b279ba0923001be6",
      "d273ad6ee880420285ebc740e94b8d0e",
      "e365b6a6f730435484f86259f8daec37",
      "779c4c98f5f54c4e91b808b18cf24fdb",
      "49f6481eae5e48e2bf6c8b6b68893648",
      "f7fdec69cb37499f94f5d329cbb58c66",
      "7d72d07fdaaa438aa260a9ea0ca7072d",
      "1c7b324360c3446887328caa328e2f17",
      "373b8a45660b444286d651f92b085b79",
      "e782e8b58a544c4da9aedd8f1ea2d208",
      "fb99722dbd154736aa06e7673c03afab",
      "805dc929b0e84bcf93bf354e3fb7d0ac",
      "5f8f7ad97c62437b96eff7a532ec5f0d",
      "9a616fa54c0c4ed38649a05e5d589bb7",
      "60dea180be2242ab8b83c1bd0fb5428e",
      "8da73232bc04433dbfa02351d1ff2012",
      "01874d2b34734c6cb168968b7d240c7e",
      "592a4ac7e6c74a52a107dd12d38ad5ca",
      "22c40e7d3930444f80d213cbdd3c0c7a",
      "30102b199d944cb987bacd59eb8f7aec",
      "3a758fb31be144a98f8b1d743ed5f00f",
      "9ed2d1ce4e804ec18c31511fcd37a948",
      "14be75c1c9844c96b21fc7a024c73420",
      "5540760da0f6466dafee4b83822f32c8",
      "ba07f01d70414f6194221d28b35c1a61",
      "1d27eadf904d430bbd408f3adb34b0b1"
     ]
    },
    "id": "Uj3f-9dNuvWF",
    "outputId": "d96e0df6-6667-4edc-ce69-68dedfbd3a63"
   },
   "outputs": [],
   "source": [
    "tokenizer = BertTokenizer.from_pretrained('Hate-speech-CNERG/bert-base-uncased-hatexplain-rationale-two')"
   ]
  },
  {
   "cell_type": "code",
   "execution_count": 9,
   "metadata": {
    "ExecuteTime": {
     "start_time": "2023-10-08T16:52:48.929283Z",
     "end_time": "2023-10-08T16:52:48.931133Z"
    },
    "jupyter": {
     "outputs_hidden": false
    },
    "tags": [],
    "id": "HWFBZNgtuvWF"
   },
   "outputs": [],
   "source": [
    "inputs = tokenizer([\n",
    "    'guilty until proven innocent unless you are a jew a nigger or a lover of both',\n",
    "    'and this is why i end up with nigger trainee doctors who can not speak properly lack basic knowledge of biology'\n",
    "], return_tensors='pt', max_length=MAX_SEQ_LEN, padding='max_length', truncation=True).to(device)\n",
    "tokens = tokenizer.convert_ids_to_tokens(inputs['input_ids'][0], skip_special_tokens=False)\n",
    "label_ids = torch.tensor([1, 1], dtype=torch.long).to(device)"
   ]
  },
  {
   "cell_type": "code",
   "execution_count": 10,
   "metadata": {
    "ExecuteTime": {
     "start_time": "2023-10-08T16:52:48.934520Z",
     "end_time": "2023-10-08T16:52:48.936605Z"
    },
    "jupyter": {
     "outputs_hidden": false
    },
    "tags": [],
    "colab": {
     "base_uri": "https://localhost:8080/"
    },
    "id": "qNtZY0Q1uvWF",
    "outputId": "5e026b04-921b-4727-de97-60ecb874da2c"
   },
   "outputs": [
    {
     "data": {
      "text/plain": "['[CLS]',\n 'guilty',\n 'until',\n 'proven',\n 'innocent',\n 'unless',\n 'you',\n 'are',\n 'a',\n 'jew',\n 'a',\n 'ni',\n '##gger',\n 'or',\n 'a',\n 'lover',\n 'of',\n 'both',\n '[SEP]']"
     },
     "execution_count": 10,
     "metadata": {},
     "output_type": "execute_result"
    }
   ],
   "source": [
    "tokens = [token for token in tokens if token not in ['[PAD]']]\n",
    "tokens"
   ]
  },
  {
   "cell_type": "code",
   "source": [
    "params = {\n",
    "    'num_classes': 2,\n",
    "    'data_file': 'HateXplain/Data/dataset.json',\n",
    "    'class_label': 'HateXplain/Data/classes_two.npy',\n",
    "    'class_names': ['NORMAL', 'ABUSIVE'],\n",
    "    'bert_tokens': True,\n",
    "    'include_special': True,\n",
    "\n",
    "    'type_attention': 'softmax',\n",
    "    'max_length': 128,\n",
    "    'variance': 10,\n",
    "    'decay': False,\n",
    "    'majority': 2,\n",
    "}"
   ],
   "metadata": {
    "id": "ECZBk1RYz-Nq",
    "ExecuteTime": {
     "start_time": "2023-10-08T16:52:48.939856Z",
     "end_time": "2023-10-08T16:52:48.941163Z"
    }
   },
   "execution_count": 11,
   "outputs": []
  },
  {
   "cell_type": "code",
   "source": [
    "! mkdir Data\n",
    "! cp HateXplain/Data/* Data/"
   ],
   "metadata": {
    "id": "oRjQqUcj20HI",
    "ExecuteTime": {
     "start_time": "2023-10-08T16:52:48.943166Z",
     "end_time": "2023-10-08T16:52:49.270822Z"
    }
   },
   "execution_count": 12,
   "outputs": [
    {
     "name": "stdout",
     "output_type": "stream",
     "text": [
      "mkdir: Data: File exists\r\n"
     ]
    }
   ]
  },
  {
   "cell_type": "code",
   "source": [
    "train, val, test = createDatasetSplit(params)"
   ],
   "metadata": {
    "colab": {
     "base_uri": "https://localhost:8080/",
     "height": 266,
     "referenced_widgets": [
      "1550ac068c634e2fab4832f12998ea64",
      "b4d2c6ecd2f14bca8b4c03f2164fbbde",
      "56c37e3289614240af148c850ad8a1e3",
      "1fb2695d4c854bf08f2b07749330b23c",
      "e56272570e964f2fb1692408e3fb44bd",
      "f98c8591cb6f4b47adf79b02a4b16578",
      "c8c2748c9b1b44aeaaf86db8892d0d17",
      "e1cc924d7b554ab08f956afdebe8ffa6",
      "6e7386b6119b4d6f8af0eb68349f1546",
      "62fb9a9012de4ddc8b569909f1e1815c",
      "0d443f544faf45a283085a291454e23a",
      "9dac871e0a6542c6b04702e02faeab53",
      "888226c23e6c48adb565b8aaf813064a",
      "d3de0e184fa54e058a86cf21ed74fd9c",
      "db1ccde9ee594637ad04ff94f500abae",
      "24fb5499989a4b53a836c601639728f0",
      "9ff9a082d23445f385920347e51b75a5",
      "55bf455faf5847af9d946329894c6adc",
      "23e52e51f4054a6d9c95184c540a49e5",
      "13e6ed5452964f77ae6c7ca91b594a89",
      "3bbbb7c67133484885ad9e3cfc3e9ef5",
      "3ebc872d267c4f85aabf45bb6130ced5",
      "520b231e7c994a3db545fa419c7a109f",
      "91019516844f498883a16bb7cf183786",
      "c279fb83c9664697b5c4a88cb6d1cfd1",
      "bd9bc1c2e432424fa9c0e70b9983efe5",
      "da3fd1d14dcf4459a2b082fb4bc14925",
      "4ee6e400ba004592a3d147df17ffebc8",
      "e20ca3a10cba4944821bed88763316ad",
      "edebefb896c046f892e4ca15d63a4f09",
      "7fd3f92805614d4c91e0f4ea4c56fd74",
      "92ce98e24106427ba354ce3365ea954e",
      "f88217bbd6444c32b5e82a437c15c96a"
     ]
    },
    "id": "QlIrtRmazvXw",
    "outputId": "6718f1c0-326d-4a5f-c069-47c79d254dde",
    "ExecuteTime": {
     "start_time": "2023-10-08T16:52:49.274380Z",
     "end_time": "2023-10-08T16:52:49.493556Z"
    }
   },
   "execution_count": 13,
   "outputs": []
  },
  {
   "cell_type": "code",
   "source": [
    "def transform_data(data, max_len):\n",
    "    def pad_truncate(record):\n",
    "        out = record\n",
    "        if len(out) > max_len:\n",
    "            out = out[:max_len]\n",
    "        elif len(out) < max_len:\n",
    "            out = out + [0] * (max_len - len(out))\n",
    "\n",
    "        return out\n",
    "\n",
    "    input_ids = []\n",
    "    segment_ids = []\n",
    "    attention_mask = []\n",
    "    labels = []\n",
    "    for e in tqdm(data):\n",
    "        attention_mask.append(np.array([1] * len(e[0]) + [0] * (max_len - len(e[0]))))\n",
    "        input_ids.append(np.array(pad_truncate(e[0])))\n",
    "        segment_ids.append(np.array([0] * max_len))\n",
    "        if e[2] in ['hatespeech', 'offensive']:\n",
    "            labels.append(1)\n",
    "        else:\n",
    "            labels.append(0)\n",
    "    return {\n",
    "        'input_ids': torch.tensor(input_ids, dtype=torch.long),\n",
    "        'token_type_ids': torch.tensor(segment_ids, dtype=torch.long),\n",
    "        'attention_mask': torch.tensor(attention_mask, dtype=torch.long),\n",
    "        'label_ids': torch.tensor(labels, dtype=torch.long),\n",
    "    }"
   ],
   "metadata": {
    "id": "FyWgsGNF7M1I",
    "ExecuteTime": {
     "start_time": "2023-10-08T16:52:49.497401Z",
     "end_time": "2023-10-08T16:52:49.498816Z"
    }
   },
   "execution_count": 14,
   "outputs": []
  },
  {
   "cell_type": "code",
   "source": [
    "val_ready = transform_data(val, MAX_SEQ_LEN)\n",
    "val_ready"
   ],
   "metadata": {
    "colab": {
     "base_uri": "https://localhost:8080/"
    },
    "id": "0S2qaMi6-xYN",
    "outputId": "9cb2fc6e-4e8c-458c-f603-24049bde4f4e",
    "ExecuteTime": {
     "start_time": "2023-10-08T16:52:49.500181Z",
     "end_time": "2023-10-08T16:52:49.686755Z"
    }
   },
   "execution_count": 15,
   "outputs": [
    {
     "name": "stderr",
     "output_type": "stream",
     "text": [
      "100%|██████████| 1922/1922 [00:00<00:00, 34509.35it/s]\n",
      "/var/folders/tn/_r_b9n8d0bg1fzccsh7yq_sc0000gn/T/ipykernel_43237/1555435426.py:24: UserWarning: Creating a tensor from a list of numpy.ndarrays is extremely slow. Please consider converting the list to a single numpy.ndarray with numpy.array() before converting to a tensor. (Triggered internally at /Users/runner/work/_temp/anaconda/conda-bld/pytorch_1682343679700/work/torch/csrc/utils/tensor_new.cpp:248.)\n",
      "  'input_ids': torch.tensor(input_ids, dtype=torch.long),\n"
     ]
    },
    {
     "data": {
      "text/plain": "{'input_ids': tensor([[  101,  2023,  7743,  ...,     0,     0,     0],\n         [  101,  5458,  1045,  ...,     0,     0,     0],\n         [  101,  2035,  1997,  ...,     0,     0,     0],\n         ...,\n         [  101, 10629,  2358,  ...,     0,     0,     0],\n         [  101,  2019, 12632,  ...,     0,     0,     0],\n         [  101,  2065, 24471,  ...,     0,     0,     0]]),\n 'token_type_ids': tensor([[0, 0, 0,  ..., 0, 0, 0],\n         [0, 0, 0,  ..., 0, 0, 0],\n         [0, 0, 0,  ..., 0, 0, 0],\n         ...,\n         [0, 0, 0,  ..., 0, 0, 0],\n         [0, 0, 0,  ..., 0, 0, 0],\n         [0, 0, 0,  ..., 0, 0, 0]]),\n 'attention_mask': tensor([[1, 1, 1,  ..., 0, 0, 0],\n         [1, 1, 1,  ..., 0, 0, 0],\n         [1, 1, 1,  ..., 0, 0, 0],\n         ...,\n         [1, 1, 1,  ..., 0, 0, 0],\n         [1, 1, 1,  ..., 0, 0, 0],\n         [1, 1, 1,  ..., 0, 0, 0]]),\n 'label_ids': tensor([1, 1, 1,  ..., 0, 0, 1])}"
     },
     "execution_count": 15,
     "metadata": {},
     "output_type": "execute_result"
    }
   ]
  },
  {
   "cell_type": "code",
   "source": [
    "test_ready = transform_data(test, MAX_SEQ_LEN)\n",
    "test_ready"
   ],
   "metadata": {
    "colab": {
     "base_uri": "https://localhost:8080/"
    },
    "id": "hVZMgg8M_rqr",
    "outputId": "45ce06b6-1198-4b9f-9343-ee4b14d0cd08",
    "ExecuteTime": {
     "start_time": "2023-10-08T16:52:49.688930Z",
     "end_time": "2023-10-08T16:52:49.817346Z"
    }
   },
   "execution_count": 16,
   "outputs": [
    {
     "name": "stderr",
     "output_type": "stream",
     "text": [
      "100%|██████████| 1924/1924 [00:00<00:00, 39562.70it/s]\n"
     ]
    },
    {
     "data": {
      "text/plain": "{'input_ids': tensor([[ 101, 1045, 2123,  ...,    0,    0,    0],\n         [ 101, 6874, 8840,  ...,    0,    0,    0],\n         [ 101, 5310, 2054,  ...,    0,    0,    0],\n         ...,\n         [ 101, 2129, 2003,  ...,    0,    0,    0],\n         [ 101, 2092, 2026,  ...,    0,    0,    0],\n         [ 101, 2021, 2009,  ...,    0,    0,    0]]),\n 'token_type_ids': tensor([[0, 0, 0,  ..., 0, 0, 0],\n         [0, 0, 0,  ..., 0, 0, 0],\n         [0, 0, 0,  ..., 0, 0, 0],\n         ...,\n         [0, 0, 0,  ..., 0, 0, 0],\n         [0, 0, 0,  ..., 0, 0, 0],\n         [0, 0, 0,  ..., 0, 0, 0]]),\n 'attention_mask': tensor([[1, 1, 1,  ..., 0, 0, 0],\n         [1, 1, 1,  ..., 0, 0, 0],\n         [1, 1, 1,  ..., 0, 0, 0],\n         ...,\n         [1, 1, 1,  ..., 0, 0, 0],\n         [1, 1, 1,  ..., 0, 0, 0],\n         [1, 1, 1,  ..., 0, 0, 0]]),\n 'label_ids': tensor([0, 1, 0,  ..., 1, 1, 0])}"
     },
     "execution_count": 16,
     "metadata": {},
     "output_type": "execute_result"
    }
   ]
  },
  {
   "cell_type": "code",
   "execution_count": 17,
   "metadata": {
    "jupyter": {
     "outputs_hidden": false
    },
    "tags": [],
    "id": "-y2xC4CXuvWG",
    "ExecuteTime": {
     "start_time": "2023-10-08T16:52:49.820092Z",
     "end_time": "2023-10-08T16:52:49.821663Z"
    }
   },
   "outputs": [],
   "source": [
    "def scaled_input(emb, batch_size, num_batch, baseline=None, start_i=None, end_i=None):\n",
    "    # shape of emb: (num_head, seq_len, seq_len)\n",
    "    if baseline is None:\n",
    "        baseline = torch.zeros_like(emb)\n",
    "\n",
    "    num_points = batch_size * num_batch\n",
    "    scale = 1.0 / num_points\n",
    "    if start_i is None:\n",
    "        step = (emb.unsqueeze(0) - baseline.unsqueeze(0)) * scale  # (1, num_head, seq_len, seq_len)\n",
    "        # n = batch_size * num_batch\n",
    "        res = torch.cat([torch.add(baseline.unsqueeze(0), step * i) for i in range(num_points)],\n",
    "                        dim=0)  # (n, num_head, seq_len, seq_len)\n",
    "        return res, step[0]\n",
    "    else:\n",
    "        step = (emb - baseline) * scale\n",
    "        start_emb = torch.add(baseline, step * start_i)\n",
    "        end_emb = torch.add(baseline, step * end_i)\n",
    "        step_new = (end_emb.unsqueeze(0) - start_emb.unsqueeze(0)) * scale\n",
    "        res = torch.cat([torch.add(start_emb.unsqueeze(0), step_new * i) for i in range(num_points)], dim=0)\n",
    "        return res, step_new[0]"
   ]
  },
  {
   "cell_type": "code",
   "execution_count": 92,
   "metadata": {
    "ExecuteTime": {
     "start_time": "2023-10-08T17:29:57.394562Z",
     "end_time": "2023-10-08T17:29:57.396722Z"
    },
    "jupyter": {
     "outputs_hidden": false
    },
    "tags": [],
    "id": "miJv5J3WuvWG"
   },
   "outputs": [],
   "source": [
    "def generate_attr_score(model, dataloader, batch_size, num_batch):\n",
    "    res_attr = []\n",
    "\n",
    "    for input_ids, segment_ids, attention_mask, label_ids in tqdm(dataloader):\n",
    "        input_ids = input_ids.to(device)\n",
    "        segment_ids = segment_ids.to(device)\n",
    "        attention_mask = attention_mask.to(device)\n",
    "        label_ids = label_ids.to(device)\n",
    "\n",
    "        layers_attr = []\n",
    "\n",
    "        for tar_layer in range(num_layer):\n",
    "            with torch.no_grad():\n",
    "                att, baseline_logits, _ = model(input_ids=input_ids, token_type_ids=segment_ids,\n",
    "                                                attention_mask=attention_mask,\n",
    "                                                labels=label_ids, tar_layer=tar_layer)\n",
    "            pred_label = torch.argmax(baseline_logits, dim=1)\n",
    "\n",
    "            scale_att, step = scaled_input(att.data, batch_size, num_batch)\n",
    "            scale_att.requires_grad_(True)\n",
    "\n",
    "            attr_all = None\n",
    "            for j_batch in range(num_batch):\n",
    "                one_batch_att = scale_att[j_batch * batch_size:(j_batch + 1) * batch_size]\n",
    "                tar_prob, grad = model(input_ids=input_ids, token_type_ids=segment_ids, attention_mask=attention_mask,\n",
    "                                       labels=label_ids, tar_layer=tar_layer, tmp_score=one_batch_att,\n",
    "                                       pred_label=pred_label)\n",
    "                print(len(grad))\n",
    "                print(grad[0].shape)\n",
    "                grad = grad.sum(dim=0)\n",
    "                attr_all = grad if attr_all is None else torch.add(attr_all, grad)\n",
    "            layers_attr.append(attr_all.data.cpu().detach().numpy())\n",
    "        res_attr.append(np.array(layers_attr))\n",
    "\n",
    "    return np.array(res_attr).sum(1).sum(1)"
   ]
  },
  {
   "cell_type": "code",
   "execution_count": 93,
   "metadata": {
    "ExecuteTime": {
     "start_time": "2023-10-08T17:29:58.246350Z",
     "end_time": "2023-10-08T17:29:58.250771Z"
    },
    "jupyter": {
     "outputs_hidden": false
    },
    "tags": [],
    "id": "QxvVUaS9uvWG"
   },
   "outputs": [],
   "source": [
    "class Model_Rational_Label(BertPreTrainedModel):\n",
    "    def __init__(self, config):\n",
    "        super().__init__(config)\n",
    "        self.num_labels = 2\n",
    "        self.impact_factor = 0.8\n",
    "        self.bert = BertModel(config, add_pooling_layer=False)\n",
    "        self.bert_pooler = BertPooler(config)\n",
    "        self.token_dropout = nn.Dropout(0.1)\n",
    "        self.token_classifier = nn.Linear(config.hidden_size, 2)\n",
    "        self.dropout = nn.Dropout(0.1)\n",
    "        self.classifier = nn.Linear(config.hidden_size, self.num_labels)\n",
    "        self.init_weights()\n",
    "\n",
    "    def forward(self,\n",
    "                input_ids=None,\n",
    "                attention_mask=None,\n",
    "                token_type_ids=None,\n",
    "                attn=None,\n",
    "                labels=None,\n",
    "                tar_layer=None,\n",
    "                tmp_score=None,\n",
    "                pred_label=None):\n",
    "        _, sequence_output, att_score = self.bert(\n",
    "            input_ids=input_ids, token_type_ids=token_type_ids, attention_mask=attention_mask,\n",
    "            output_all_encoded_layers=False,\n",
    "            tar_layer=tar_layer, tmp_score=tmp_score)\n",
    "\n",
    "        token_logits = self.token_classifier(self.token_dropout(sequence_output))\n",
    "\n",
    "        #         mean_pooling = torch.mean(out, 1)\n",
    "        #         max_pooling, _ = torch.max(out, 1)\n",
    "        #         embed = torch.cat((mean_pooling, max_pooling), 1)\n",
    "        embed = self.bert_pooler(sequence_output)\n",
    "        logits = self.classifier(self.dropout(embed))\n",
    "\n",
    "        prob = torch.nn.functional.softmax(logits, dim=-1)\n",
    "\n",
    "        if labels is not None:\n",
    "            tar_prob = prob[:, labels[0]]\n",
    "\n",
    "        if tmp_score is None:\n",
    "            return att_score[0], logits, token_logits\n",
    "        else:\n",
    "            # gradient = torch.autograd.grad(torch.unbind(prob[:, labels[0]]), tmp_score)\n",
    "            gradient = torch.autograd.grad(torch.unbind(torch.gather(prob, dim=1, index=labels.view(-1, 1))), tmp_score)\n",
    "            return tar_prob, gradient[0]"
   ]
  },
  {
   "cell_type": "code",
   "execution_count": 90,
   "metadata": {
    "ExecuteTime": {
     "start_time": "2023-10-08T17:29:13.187290Z",
     "end_time": "2023-10-08T17:29:15.551069Z"
    },
    "jupyter": {
     "outputs_hidden": false
    },
    "tags": [],
    "colab": {
     "base_uri": "https://localhost:8080/",
     "height": 831,
     "referenced_widgets": [
      "48bb9cf5acf34efdacabc76a9a4d22cc",
      "4ed03dfb12174d6e8d4f2aae17d6e621",
      "4f89231a2f3d487fba152c34d31b86b2",
      "8dd7b4e50c8d481c8e9ec7594cd4e278",
      "816deea353f04b5a82a583534ede145b",
      "808926da69f049f3a3515df0b12f0ffa",
      "16ebf54919104685bdc2200d9365df45",
      "891c685755c4494faa35ec81caaa89a8",
      "170c095fa2ad4f41b5782cf22667d628",
      "882575bbcce44e50b5b555e26443eee3",
      "5ec1fa7f9a024af9bf9029428c40e6f7"
     ]
    },
    "id": "frtOiAAluvWH",
    "outputId": "4beeb3f9-c673-4b44-8c4d-a22e09694dff"
   },
   "outputs": [
    {
     "data": {
      "text/plain": "Model_Rational_Label(\n  (bert): BertModel(\n    (embeddings): BertEmbeddings(\n      (word_embeddings): Embedding(30522, 768)\n      (position_embeddings): Embedding(512, 768)\n      (token_type_embeddings): Embedding(2, 768)\n      (LayerNorm): BertLayerNorm()\n      (dropout): Dropout(p=0.1, inplace=False)\n    )\n    (encoder): BertEncoder(\n      (layer): ModuleList(\n        (0-11): 12 x BertLayer(\n          (attention): BertAttention(\n            (self): BertSelfAttention(\n              (query): Linear(in_features=768, out_features=768, bias=True)\n              (key): Linear(in_features=768, out_features=768, bias=True)\n              (value): Linear(in_features=768, out_features=768, bias=True)\n              (dropout): Dropout(p=0.1, inplace=False)\n            )\n            (output): BertSelfOutput(\n              (dense): Linear(in_features=768, out_features=768, bias=True)\n              (LayerNorm): BertLayerNorm()\n              (dropout): Dropout(p=0.1, inplace=False)\n            )\n          )\n          (intermediate): BertIntermediate(\n            (dense): Linear(in_features=768, out_features=3072, bias=True)\n          )\n          (output): BertOutput(\n            (dense): Linear(in_features=3072, out_features=768, bias=True)\n            (LayerNorm): BertLayerNorm()\n            (dropout): Dropout(p=0.1, inplace=False)\n          )\n        )\n      )\n    )\n  )\n  (bert_pooler): BertPooler(\n    (dense): Linear(in_features=768, out_features=768, bias=True)\n    (activation): Tanh()\n  )\n  (token_dropout): Dropout(p=0.1, inplace=False)\n  (token_classifier): Linear(in_features=768, out_features=2, bias=True)\n  (dropout): Dropout(p=0.1, inplace=False)\n  (classifier): Linear(in_features=768, out_features=2, bias=True)\n)"
     },
     "execution_count": 90,
     "metadata": {},
     "output_type": "execute_result"
    }
   ],
   "source": [
    "model = Model_Rational_Label.from_pretrained('Hate-speech-CNERG/bert-base-uncased-hatexplain-rationale-two').to(device)\n",
    "model"
   ]
  },
  {
   "cell_type": "code",
   "execution_count": 71,
   "metadata": {
    "ExecuteTime": {
     "start_time": "2023-10-08T17:08:03.429655Z",
     "end_time": "2023-10-08T17:08:03.435053Z"
    },
    "jupyter": {
     "outputs_hidden": false
    },
    "id": "H0D5rtpauvWH"
   },
   "outputs": [],
   "source": [
    "def return_dataloader(input_ids, token_type_ids, att_masks, labels, batch_size):\n",
    "    inputs = torch.tensor(input_ids)\n",
    "    labels = torch.tensor(labels, dtype=torch.long)\n",
    "    masks = torch.tensor(np.array(att_masks), dtype=torch.uint8)\n",
    "    data = TensorDataset(inputs, token_type_ids, masks, labels)\n",
    "    sampler = SequentialSampler(data)\n",
    "    dataloader = DataLoader(data, sampler=sampler, batch_size=batch_size)\n",
    "    return dataloader"
   ]
  },
  {
   "cell_type": "code",
   "source": [
    "val_ready['label_ids'], label_ids"
   ],
   "metadata": {
    "colab": {
     "base_uri": "https://localhost:8080/"
    },
    "id": "Nl-3JOxyATg6",
    "outputId": "341daedd-90a4-4bb4-ceb0-469911201b27",
    "ExecuteTime": {
     "start_time": "2023-10-08T16:52:52.899858Z",
     "end_time": "2023-10-08T16:52:52.903263Z"
    }
   },
   "execution_count": 22,
   "outputs": [
    {
     "data": {
      "text/plain": "(tensor([1, 1, 1,  ..., 0, 0, 1]), tensor([1, 1]))"
     },
     "execution_count": 22,
     "metadata": {},
     "output_type": "execute_result"
    }
   ]
  },
  {
   "cell_type": "code",
   "execution_count": 23,
   "metadata": {
    "ExecuteTime": {
     "start_time": "2023-10-08T16:52:55.202632Z",
     "end_time": "2023-10-08T16:52:55.216166Z"
    },
    "jupyter": {
     "outputs_hidden": false
    },
    "colab": {
     "base_uri": "https://localhost:8080/"
    },
    "id": "Rfaf2QdUuvWH",
    "outputId": "64b2ae66-49fa-4172-bd5d-927a92608845"
   },
   "outputs": [
    {
     "name": "stderr",
     "output_type": "stream",
     "text": [
      "/var/folders/tn/_r_b9n8d0bg1fzccsh7yq_sc0000gn/T/ipykernel_43237/1897980149.py:2: UserWarning: To copy construct from a tensor, it is recommended to use sourceTensor.clone().detach() or sourceTensor.clone().detach().requires_grad_(True), rather than torch.tensor(sourceTensor).\n",
      "  inputs = torch.tensor(input_ids)\n",
      "/var/folders/tn/_r_b9n8d0bg1fzccsh7yq_sc0000gn/T/ipykernel_43237/1897980149.py:3: UserWarning: To copy construct from a tensor, it is recommended to use sourceTensor.clone().detach() or sourceTensor.clone().detach().requires_grad_(True), rather than torch.tensor(sourceTensor).\n",
      "  labels = torch.tensor(labels, dtype=torch.long)\n"
     ]
    },
    {
     "data": {
      "text/plain": "<torch.utils.data.dataloader.DataLoader at 0x7f8255872ec0>"
     },
     "execution_count": 23,
     "metadata": {},
     "output_type": "execute_result"
    }
   ],
   "source": [
    "dataloader = return_dataloader(val_ready['input_ids'], val_ready['token_type_ids'], val_ready['attention_mask'],\n",
    "                               val_ready['label_ids'], BATCH_SIZE)\n",
    "dataloader"
   ]
  },
  {
   "cell_type": "code",
   "execution_count": 94,
   "metadata": {
    "ExecuteTime": {
     "end_time": "2023-10-01T14:43:26.884853Z",
     "start_time": "2023-10-01T14:42:27.576471Z"
    },
    "jupyter": {
     "outputs_hidden": false
    },
    "colab": {
     "base_uri": "https://localhost:8080/"
    },
    "id": "id-Xd78xuvWH",
    "outputId": "e9abcda5-5878-4a61-d11b-ea33fe49889e"
   },
   "outputs": [
    {
     "name": "stderr",
     "output_type": "stream",
     "text": [
      "  0%|          | 0/961 [00:02<?, ?it/s]"
     ]
    },
    {
     "name": "stdout",
     "output_type": "stream",
     "text": [
      "1\n",
      "torch.Size([2, 12, 128, 128])\n"
     ]
    },
    {
     "name": "stderr",
     "output_type": "stream",
     "text": [
      "\n"
     ]
    },
    {
     "ename": "AttributeError",
     "evalue": "'tuple' object has no attribute 'sum'",
     "output_type": "error",
     "traceback": [
      "\u001B[0;31m---------------------------------------------------------------------------\u001B[0m",
      "\u001B[0;31mAttributeError\u001B[0m                            Traceback (most recent call last)",
      "Cell \u001B[0;32mIn[94], line 1\u001B[0m\n\u001B[0;32m----> 1\u001B[0m res_attr \u001B[38;5;241m=\u001B[39m \u001B[43mgenerate_attr_score\u001B[49m\u001B[43m(\u001B[49m\n\u001B[1;32m      2\u001B[0m \u001B[43m    \u001B[49m\u001B[43mmodel\u001B[49m\u001B[43m,\u001B[49m\n\u001B[1;32m      3\u001B[0m \u001B[43m    \u001B[49m\u001B[43mdataloader\u001B[49m\u001B[43m,\u001B[49m\n\u001B[1;32m      4\u001B[0m \u001B[43m    \u001B[49m\u001B[43mbatch_size\u001B[49m\u001B[38;5;241;43m=\u001B[39;49m\u001B[43mBATCH_SIZE\u001B[49m\u001B[43m,\u001B[49m\n\u001B[1;32m      5\u001B[0m \u001B[43m    \u001B[49m\u001B[43mnum_batch\u001B[49m\u001B[38;5;241;43m=\u001B[39;49m\u001B[43mNUM_BATCH\u001B[49m\n\u001B[1;32m      6\u001B[0m \u001B[43m)\u001B[49m\n\u001B[1;32m      7\u001B[0m res_attr\n",
      "Cell \u001B[0;32mIn[92], line 30\u001B[0m, in \u001B[0;36mgenerate_attr_score\u001B[0;34m(model, dataloader, batch_size, num_batch)\u001B[0m\n\u001B[1;32m     28\u001B[0m     \u001B[38;5;28mprint\u001B[39m(\u001B[38;5;28mlen\u001B[39m(grad))\n\u001B[1;32m     29\u001B[0m     \u001B[38;5;28mprint\u001B[39m(grad[\u001B[38;5;241m0\u001B[39m]\u001B[38;5;241m.\u001B[39mshape)\n\u001B[0;32m---> 30\u001B[0m     grad \u001B[38;5;241m=\u001B[39m \u001B[43mgrad\u001B[49m\u001B[38;5;241;43m.\u001B[39;49m\u001B[43msum\u001B[49m(dim\u001B[38;5;241m=\u001B[39m\u001B[38;5;241m0\u001B[39m)\n\u001B[1;32m     31\u001B[0m     attr_all \u001B[38;5;241m=\u001B[39m grad \u001B[38;5;28;01mif\u001B[39;00m attr_all \u001B[38;5;129;01mis\u001B[39;00m \u001B[38;5;28;01mNone\u001B[39;00m \u001B[38;5;28;01melse\u001B[39;00m torch\u001B[38;5;241m.\u001B[39madd(attr_all, grad)\n\u001B[1;32m     32\u001B[0m layers_attr\u001B[38;5;241m.\u001B[39mappend(attr_all\u001B[38;5;241m.\u001B[39mdata\u001B[38;5;241m.\u001B[39mcpu()\u001B[38;5;241m.\u001B[39mdetach()\u001B[38;5;241m.\u001B[39mnumpy())\n",
      "\u001B[0;31mAttributeError\u001B[0m: 'tuple' object has no attribute 'sum'"
     ]
    }
   ],
   "source": [
    "res_attr = generate_attr_score(\n",
    "    model,\n",
    "    dataloader,\n",
    "    batch_size=BATCH_SIZE,\n",
    "    num_batch=NUM_BATCH\n",
    ")\n",
    "res_attr"
   ]
  },
  {
   "cell_type": "code",
   "execution_count": 70,
   "outputs": [
    {
     "ename": "RuntimeError",
     "evalue": "Trying to backward through the graph a second time (or directly access saved tensors after they have already been freed). Saved intermediate values of the graph are freed when you call .backward() or autograd.grad(). Specify retain_graph=True if you need to backward through the graph a second time or if you need to access saved tensors after calling backward.",
     "output_type": "error",
     "traceback": [
      "\u001B[0;31m---------------------------------------------------------------------------\u001B[0m",
      "\u001B[0;31mRuntimeError\u001B[0m                              Traceback (most recent call last)",
      "Cell \u001B[0;32mIn[70], line 22\u001B[0m\n\u001B[1;32m     20\u001B[0m \u001B[38;5;28;01mfor\u001B[39;00m j_batch \u001B[38;5;129;01min\u001B[39;00m \u001B[38;5;28mrange\u001B[39m(NUM_BATCH):\n\u001B[1;32m     21\u001B[0m     one_batch_att \u001B[38;5;241m=\u001B[39m scale_att[j_batch \u001B[38;5;241m*\u001B[39m BATCH_SIZE:(j_batch \u001B[38;5;241m+\u001B[39m \u001B[38;5;241m1\u001B[39m) \u001B[38;5;241m*\u001B[39m BATCH_SIZE]\n\u001B[0;32m---> 22\u001B[0m     tar_prob, grad \u001B[38;5;241m=\u001B[39m \u001B[43mmodel\u001B[49m\u001B[43m(\u001B[49m\u001B[43minput_ids\u001B[49m\u001B[38;5;241;43m=\u001B[39;49m\u001B[43minput_ids\u001B[49m\u001B[43m,\u001B[49m\u001B[43m \u001B[49m\u001B[43mtoken_type_ids\u001B[49m\u001B[38;5;241;43m=\u001B[39;49m\u001B[43msegment_ids\u001B[49m\u001B[43m,\u001B[49m\u001B[43m \u001B[49m\u001B[43mattention_mask\u001B[49m\u001B[38;5;241;43m=\u001B[39;49m\u001B[43mattention_mask\u001B[49m\u001B[43m,\u001B[49m\n\u001B[1;32m     23\u001B[0m \u001B[43m                           \u001B[49m\u001B[43mlabels\u001B[49m\u001B[38;5;241;43m=\u001B[39;49m\u001B[43mlabel_ids\u001B[49m\u001B[43m,\u001B[49m\u001B[43m \u001B[49m\u001B[43mtar_layer\u001B[49m\u001B[38;5;241;43m=\u001B[39;49m\u001B[43mtar_layer\u001B[49m\u001B[43m,\u001B[49m\u001B[43m \u001B[49m\u001B[43mtmp_score\u001B[49m\u001B[38;5;241;43m=\u001B[39;49m\u001B[43mone_batch_att\u001B[49m\u001B[43m,\u001B[49m\n\u001B[1;32m     24\u001B[0m \u001B[43m                           \u001B[49m\u001B[43mpred_label\u001B[49m\u001B[38;5;241;43m=\u001B[39;49m\u001B[43mpred_label\u001B[49m\u001B[43m)\u001B[49m\n\u001B[1;32m     25\u001B[0m     grad \u001B[38;5;241m=\u001B[39m grad\u001B[38;5;241m.\u001B[39msum(dim\u001B[38;5;241m=\u001B[39m\u001B[38;5;241m0\u001B[39m)\n\u001B[1;32m     26\u001B[0m     attr_all \u001B[38;5;241m=\u001B[39m grad \u001B[38;5;28;01mif\u001B[39;00m attr_all \u001B[38;5;129;01mis\u001B[39;00m \u001B[38;5;28;01mNone\u001B[39;00m \u001B[38;5;28;01melse\u001B[39;00m torch\u001B[38;5;241m.\u001B[39madd(attr_all, grad)\n",
      "File \u001B[0;32m~/opt/anaconda3/envs/minitorch/lib/python3.10/site-packages/torch/nn/modules/module.py:1501\u001B[0m, in \u001B[0;36mModule._call_impl\u001B[0;34m(self, *args, **kwargs)\u001B[0m\n\u001B[1;32m   1496\u001B[0m \u001B[38;5;66;03m# If we don't have any hooks, we want to skip the rest of the logic in\u001B[39;00m\n\u001B[1;32m   1497\u001B[0m \u001B[38;5;66;03m# this function, and just call forward.\u001B[39;00m\n\u001B[1;32m   1498\u001B[0m \u001B[38;5;28;01mif\u001B[39;00m \u001B[38;5;129;01mnot\u001B[39;00m (\u001B[38;5;28mself\u001B[39m\u001B[38;5;241m.\u001B[39m_backward_hooks \u001B[38;5;129;01mor\u001B[39;00m \u001B[38;5;28mself\u001B[39m\u001B[38;5;241m.\u001B[39m_backward_pre_hooks \u001B[38;5;129;01mor\u001B[39;00m \u001B[38;5;28mself\u001B[39m\u001B[38;5;241m.\u001B[39m_forward_hooks \u001B[38;5;129;01mor\u001B[39;00m \u001B[38;5;28mself\u001B[39m\u001B[38;5;241m.\u001B[39m_forward_pre_hooks\n\u001B[1;32m   1499\u001B[0m         \u001B[38;5;129;01mor\u001B[39;00m _global_backward_pre_hooks \u001B[38;5;129;01mor\u001B[39;00m _global_backward_hooks\n\u001B[1;32m   1500\u001B[0m         \u001B[38;5;129;01mor\u001B[39;00m _global_forward_hooks \u001B[38;5;129;01mor\u001B[39;00m _global_forward_pre_hooks):\n\u001B[0;32m-> 1501\u001B[0m     \u001B[38;5;28;01mreturn\u001B[39;00m \u001B[43mforward_call\u001B[49m\u001B[43m(\u001B[49m\u001B[38;5;241;43m*\u001B[39;49m\u001B[43margs\u001B[49m\u001B[43m,\u001B[49m\u001B[43m \u001B[49m\u001B[38;5;241;43m*\u001B[39;49m\u001B[38;5;241;43m*\u001B[39;49m\u001B[43mkwargs\u001B[49m\u001B[43m)\u001B[49m\n\u001B[1;32m   1502\u001B[0m \u001B[38;5;66;03m# Do not call functions when jit is used\u001B[39;00m\n\u001B[1;32m   1503\u001B[0m full_backward_hooks, non_full_backward_hooks \u001B[38;5;241m=\u001B[39m [], []\n",
      "Cell \u001B[0;32mIn[66], line 51\u001B[0m, in \u001B[0;36mModel_Rational_Label.forward\u001B[0;34m(self, input_ids, attention_mask, token_type_ids, attn, labels, tar_layer, tmp_score, pred_label)\u001B[0m\n\u001B[1;32m     47\u001B[0m \u001B[38;5;28;01mfor\u001B[39;00m item \u001B[38;5;129;01min\u001B[39;00m prob[pred_label]:\n\u001B[1;32m     48\u001B[0m     \u001B[38;5;66;03m# print(item.shape)\u001B[39;00m\n\u001B[1;32m     49\u001B[0m     \u001B[38;5;66;03m# print(item)\u001B[39;00m\n\u001B[1;32m     50\u001B[0m     item\u001B[38;5;241m.\u001B[39mrequires_grad_(\u001B[38;5;28;01mTrue\u001B[39;00m)\n\u001B[0;32m---> 51\u001B[0m     gradients\u001B[38;5;241m.\u001B[39mappend(\u001B[43mtorch\u001B[49m\u001B[38;5;241;43m.\u001B[39;49m\u001B[43mautograd\u001B[49m\u001B[38;5;241;43m.\u001B[39;49m\u001B[43mgrad\u001B[49m\u001B[43m(\u001B[49m\u001B[43mtorch\u001B[49m\u001B[38;5;241;43m.\u001B[39;49m\u001B[43munbind\u001B[49m\u001B[43m(\u001B[49m\u001B[43mitem\u001B[49m\u001B[43m)\u001B[49m\u001B[43m,\u001B[49m\u001B[43m \u001B[49m\u001B[43mtmp_score\u001B[49m\u001B[43m)\u001B[49m)\n\u001B[1;32m     52\u001B[0m \u001B[38;5;28;01mreturn\u001B[39;00m tar_prob, gradients\n",
      "File \u001B[0;32m~/opt/anaconda3/envs/minitorch/lib/python3.10/site-packages/torch/autograd/__init__.py:303\u001B[0m, in \u001B[0;36mgrad\u001B[0;34m(outputs, inputs, grad_outputs, retain_graph, create_graph, only_inputs, allow_unused, is_grads_batched)\u001B[0m\n\u001B[1;32m    301\u001B[0m     \u001B[38;5;28;01mreturn\u001B[39;00m _vmap_internals\u001B[38;5;241m.\u001B[39m_vmap(vjp, \u001B[38;5;241m0\u001B[39m, \u001B[38;5;241m0\u001B[39m, allow_none_pass_through\u001B[38;5;241m=\u001B[39m\u001B[38;5;28;01mTrue\u001B[39;00m)(grad_outputs_)\n\u001B[1;32m    302\u001B[0m \u001B[38;5;28;01melse\u001B[39;00m:\n\u001B[0;32m--> 303\u001B[0m     \u001B[38;5;28;01mreturn\u001B[39;00m \u001B[43mVariable\u001B[49m\u001B[38;5;241;43m.\u001B[39;49m\u001B[43m_execution_engine\u001B[49m\u001B[38;5;241;43m.\u001B[39;49m\u001B[43mrun_backward\u001B[49m\u001B[43m(\u001B[49m\u001B[43m  \u001B[49m\u001B[38;5;66;43;03m# Calls into the C++ engine to run the backward pass\u001B[39;49;00m\n\u001B[1;32m    304\u001B[0m \u001B[43m        \u001B[49m\u001B[43mt_outputs\u001B[49m\u001B[43m,\u001B[49m\u001B[43m \u001B[49m\u001B[43mgrad_outputs_\u001B[49m\u001B[43m,\u001B[49m\u001B[43m \u001B[49m\u001B[43mretain_graph\u001B[49m\u001B[43m,\u001B[49m\u001B[43m \u001B[49m\u001B[43mcreate_graph\u001B[49m\u001B[43m,\u001B[49m\u001B[43m \u001B[49m\u001B[43mt_inputs\u001B[49m\u001B[43m,\u001B[49m\n\u001B[1;32m    305\u001B[0m \u001B[43m        \u001B[49m\u001B[43mallow_unused\u001B[49m\u001B[43m,\u001B[49m\u001B[43m \u001B[49m\u001B[43maccumulate_grad\u001B[49m\u001B[38;5;241;43m=\u001B[39;49m\u001B[38;5;28;43;01mFalse\u001B[39;49;00m\u001B[43m)\u001B[49m\n",
      "\u001B[0;31mRuntimeError\u001B[0m: Trying to backward through the graph a second time (or directly access saved tensors after they have already been freed). Saved intermediate values of the graph are freed when you call .backward() or autograd.grad(). Specify retain_graph=True if you need to backward through the graph a second time or if you need to access saved tensors after calling backward."
     ]
    }
   ],
   "source": [
    "res_attr = []\n",
    "\n",
    "input_ids = inputs['input_ids']\n",
    "segment_ids = inputs['token_type_ids']\n",
    "attention_mask = inputs['attention_mask']\n",
    "label_ids = label_ids\n",
    "\n",
    "layers_attr = []\n",
    "\n",
    "for tar_layer in range(num_layer):\n",
    "    att, baseline_logits, _ = model(input_ids=input_ids, token_type_ids=segment_ids,\n",
    "                                    attention_mask=attention_mask,\n",
    "                                    labels=label_ids, tar_layer=tar_layer)\n",
    "    pred_label = torch.argmax(baseline_logits, dim=1)\n",
    "\n",
    "    scale_att, step = scaled_input(att.data, BATCH_SIZE, NUM_BATCH)\n",
    "    scale_att.requires_grad_(True)\n",
    "\n",
    "    attr_all = None\n",
    "    for j_batch in range(NUM_BATCH):\n",
    "        one_batch_att = scale_att[j_batch * BATCH_SIZE:(j_batch + 1) * BATCH_SIZE]\n",
    "        tar_prob, grad = model(input_ids=input_ids, token_type_ids=segment_ids, attention_mask=attention_mask,\n",
    "                               labels=label_ids, tar_layer=tar_layer, tmp_score=one_batch_att,\n",
    "                               pred_label=pred_label)\n",
    "        grad = grad.sum(dim=0)\n",
    "        attr_all = grad if attr_all is None else torch.add(attr_all, grad)\n",
    "    layers_attr.append(attr_all.data.cpu().detach().numpy())\n",
    "res_attr.append(np.array(layers_attr))"
   ],
   "metadata": {
    "collapsed": false
   }
  },
  {
   "cell_type": "code",
   "execution_count": 48,
   "metadata": {
    "ExecuteTime": {
     "end_time": "2023-10-01T14:43:28.830209Z",
     "start_time": "2023-10-01T14:43:28.824037Z"
    },
    "jupyter": {
     "outputs_hidden": false
    },
    "colab": {
     "base_uri": "https://localhost:8080/"
    },
    "id": "SnNX6IgcuvWH",
    "outputId": "4eeb62c7-f073-426a-cbba-5042d0c470b2"
   },
   "outputs": [
    {
     "output_type": "execute_result",
     "data": {
      "text/plain": [
       "(2, 128, 128)"
      ]
     },
     "metadata": {},
     "execution_count": 48
    }
   ],
   "source": [
    "np.array(res_attr).shape"
   ]
  },
  {
   "cell_type": "code",
   "execution_count": 49,
   "metadata": {
    "ExecuteTime": {
     "end_time": "2023-10-01T14:48:13.919077Z",
     "start_time": "2023-10-01T14:48:13.912703Z"
    },
    "jupyter": {
     "outputs_hidden": false
    },
    "colab": {
     "base_uri": "https://localhost:8080/"
    },
    "id": "ctmjwa7AuvWI",
    "outputId": "f4b18d1e-fa6c-4806-f06d-89e45db81487"
   },
   "outputs": [
    {
     "output_type": "execute_result",
     "data": {
      "text/plain": [
       "(19, 19)"
      ]
     },
     "metadata": {},
     "execution_count": 49
    }
   ],
   "source": [
    "total_attr = res_attr[0, :inputs['attention_mask'][0].sum(), :inputs['attention_mask'][0].sum()]\n",
    "total_attr = total_attr / total_attr.sum()\n",
    "total_attr.shape"
   ]
  },
  {
   "cell_type": "code",
   "execution_count": 52,
   "metadata": {
    "ExecuteTime": {
     "end_time": "2023-10-01T14:48:16.640818Z",
     "start_time": "2023-10-01T14:48:16.626499Z"
    },
    "jupyter": {
     "outputs_hidden": false
    },
    "id": "C7uttqeluvWI"
   },
   "outputs": [],
   "source": [
    "def plot_parallel(matrix, tokens):\n",
    "    # Set figsize\n",
    "    plt.figure(figsize=(12, 8))\n",
    "\n",
    "    input_len = len(tokens)\n",
    "\n",
    "    # Vertical lines for the years\n",
    "    plt.axvline(x=1, color='black', linestyle='--', linewidth=1)\n",
    "    plt.axvline(x=5, color='black', linestyle='--', linewidth=1)\n",
    "\n",
    "    # Add the BEFORE and AFTER\n",
    "    plt.text(1, input_len + 1, 'A', fontsize=12, color='black', fontweight='bold')\n",
    "    plt.text(5, input_len + 1, 'B', fontsize=12, color='black', fontweight='bold')\n",
    "\n",
    "    # Plot the line for each continent\n",
    "    for i in range(input_len):\n",
    "        for j in range(input_len):\n",
    "            # Add the line to the plot\n",
    "            plt.plot([1, 5], [i, j], marker='o', label='token', color='blue', linewidth=1 * matrix[i][j])\n",
    "\n",
    "            # Add label of each continent at each year\n",
    "            plt.text(\n",
    "                1 - 0.18,  # x-axis position\n",
    "                i,  # y-axis position\n",
    "                tokens[i],  # Text\n",
    "                fontsize=8,  # Text size\n",
    "                color='black',  # Text color,\n",
    "            )\n",
    "\n",
    "            plt.text(\n",
    "                5 + 0.06,  # x-axis position\n",
    "                j,  # y-axis position\n",
    "                tokens[j],  # Text\n",
    "                fontsize=8,  # Text size\n",
    "                color='black',  # Text color\n",
    "            )\n",
    "        break\n",
    "\n",
    "    # Add a title ('\\n' allow us to jump lines)\n",
    "    plt.title(f'AttrAttr scores \\n\\n\\n')\n",
    "\n",
    "    plt.yticks([])  # Remove y-axis\n",
    "    plt.box(False)  # Remove the bounding box around plot\n",
    "    plt.show()  # Display the chart"
   ]
  },
  {
   "cell_type": "code",
   "execution_count": 53,
   "metadata": {
    "ExecuteTime": {
     "end_time": "2023-10-01T14:48:19.692234Z",
     "start_time": "2023-10-01T14:48:19.563414Z"
    },
    "jupyter": {
     "outputs_hidden": false
    },
    "colab": {
     "base_uri": "https://localhost:8080/",
     "height": 761
    },
    "id": "F2TNh7KNuvWI",
    "outputId": "fea710cd-d7ca-4055-c1bb-a8ba463e4093"
   },
   "outputs": [
    {
     "output_type": "display_data",
     "data": {
      "text/plain": [
       "<Figure size 1200x800 with 1 Axes>"
      ],
      "image/png": "[encoded data removed]"
     },
     "metadata": {}
    }
   ],
   "source": [
    "plot_parallel(total_attr, tokens)"
   ]
  },
  {
   "cell_type": "code",
   "execution_count": 54,
   "metadata": {
    "ExecuteTime": {
     "end_time": "2023-10-01T14:47:04.258489Z",
     "start_time": "2023-10-01T14:47:03.655682Z"
    },
    "jupyter": {
     "outputs_hidden": false
    },
    "colab": {
     "base_uri": "https://localhost:8080/"
    },
    "id": "mEfIxP0auvWI",
    "outputId": "875a2df8-e214-40ab-e918-584dd8627b59"
   },
   "outputs": [
    {
     "output_type": "stream",
     "name": "stderr",
     "text": [
      "<ipython-input-42-f09f14c236f2>:36: UserWarning: Implicit dimension choice for softmax has been deprecated. Change the call to include dim=X as an argument.\n",
      "  prob = torch.nn.functional.softmax(logits)\n",
      "<ipython-input-54-53af0c419cc2>:4: UserWarning: Implicit dimension choice for softmax has been deprecated. Change the call to include dim=X as an argument.\n",
      "  torch.nn.functional.softmax(prediction_logits)\n"
     ]
    },
    {
     "output_type": "execute_result",
     "data": {
      "text/plain": [
       "tensor([[0.0231, 0.9769],\n",
       "        [0.0623, 0.9377]], grad_fn=<SoftmaxBackward0>)"
      ]
     },
     "metadata": {},
     "execution_count": 54
    }
   ],
   "source": [
    "_, prediction_logits, token_logits = model(input_ids=inputs['input_ids'], token_type_ids=inputs['token_type_ids'],\n",
    "                                           attention_mask=inputs['attention_mask'], tar_layer=0)\n",
    "\n",
    "torch.nn.functional.softmax(prediction_logits)"
   ]
  },
  {
   "cell_type": "code",
   "execution_count": 56,
   "metadata": {
    "ExecuteTime": {
     "end_time": "2023-10-01T14:47:15.185429Z",
     "start_time": "2023-10-01T14:47:15.181359Z"
    },
    "jupyter": {
     "outputs_hidden": false
    },
    "id": "qgE7K_MwuvWI"
   },
   "outputs": [],
   "source": [
    "input_len = inputs['attention_mask'][0].sum()"
   ]
  },
  {
   "cell_type": "code",
   "execution_count": 57,
   "metadata": {
    "ExecuteTime": {
     "end_time": "2023-10-01T14:47:19.643619Z",
     "start_time": "2023-10-01T14:47:19.636833Z"
    },
    "jupyter": {
     "outputs_hidden": false
    },
    "colab": {
     "base_uri": "https://localhost:8080/"
    },
    "id": "vzXQ3VqYuvWI",
    "outputId": "1a70f055-0e01-4215-a52f-ed285de20016"
   },
   "outputs": [
    {
     "output_type": "execute_result",
     "data": {
      "text/plain": [
       "tensor([[[9.9875e-01, 1.2473e-03],\n",
       "         [9.9580e-01, 4.1996e-03],\n",
       "         [9.9657e-01, 3.4278e-03],\n",
       "         [9.9555e-01, 4.4473e-03],\n",
       "         [9.9530e-01, 4.7008e-03],\n",
       "         [9.7589e-01, 2.4106e-02],\n",
       "         [9.6882e-01, 3.1180e-02],\n",
       "         [9.7830e-01, 2.1697e-02],\n",
       "         [9.7018e-01, 2.9817e-02],\n",
       "         [3.8503e-01, 6.1497e-01],\n",
       "         [7.4652e-01, 2.5348e-01],\n",
       "         [2.2920e-02, 9.7708e-01],\n",
       "         [1.7939e-02, 9.8206e-01],\n",
       "         [9.2602e-01, 7.3980e-02],\n",
       "         [9.7907e-01, 2.0928e-02],\n",
       "         [8.9924e-01, 1.0076e-01],\n",
       "         [8.9317e-01, 1.0683e-01],\n",
       "         [9.5001e-01, 4.9993e-02],\n",
       "         [9.9996e-01, 4.4781e-05]],\n",
       "\n",
       "        [[9.9961e-01, 3.8629e-04],\n",
       "         [9.9975e-01, 2.5239e-04],\n",
       "         [9.9978e-01, 2.1731e-04],\n",
       "         [9.9978e-01, 2.2005e-04],\n",
       "         [9.9984e-01, 1.6181e-04],\n",
       "         [9.9974e-01, 2.5949e-04],\n",
       "         [9.9962e-01, 3.8302e-04],\n",
       "         [9.9967e-01, 3.2515e-04],\n",
       "         [9.9970e-01, 2.9545e-04],\n",
       "         [3.8896e-02, 9.6110e-01],\n",
       "         [2.2173e-02, 9.7783e-01],\n",
       "         [9.6783e-01, 3.2167e-02],\n",
       "         [9.9451e-01, 5.4856e-03],\n",
       "         [9.9971e-01, 2.9049e-04],\n",
       "         [9.9965e-01, 3.5084e-04],\n",
       "         [9.9967e-01, 3.3276e-04],\n",
       "         [9.9956e-01, 4.3681e-04],\n",
       "         [9.9971e-01, 2.8779e-04],\n",
       "         [9.9906e-01, 9.4013e-04]]], grad_fn=<SliceBackward0>)"
      ]
     },
     "metadata": {},
     "execution_count": 57
    }
   ],
   "source": [
    "pred_tokens = torch.nn.functional.softmax(token_logits, dim=-1)[:, :input_len, :]\n",
    "pred_tokens"
   ]
  },
  {
   "cell_type": "code",
   "execution_count": 58,
   "metadata": {
    "ExecuteTime": {
     "end_time": "2023-10-01T14:47:31.370215Z",
     "start_time": "2023-10-01T14:47:31.365564Z"
    },
    "jupyter": {
     "outputs_hidden": false
    },
    "id": "Sh0yarWIuvWI"
   },
   "outputs": [],
   "source": [
    "id2label = {\n",
    "    0: 'NEUTRAL',\n",
    "    1: 'ABUSIVE'\n",
    "}"
   ]
  },
  {
   "cell_type": "code",
   "execution_count": 59,
   "metadata": {
    "ExecuteTime": {
     "end_time": "2023-10-01T14:47:31.653553Z",
     "start_time": "2023-10-01T14:47:31.649389Z"
    },
    "jupyter": {
     "outputs_hidden": false
    },
    "id": "J9NEAlmvuvWI"
   },
   "outputs": [],
   "source": [
    "tokens_classes = torch.argmax(pred_tokens, dim=2)[0]"
   ]
  },
  {
   "cell_type": "code",
   "execution_count": 60,
   "metadata": {
    "ExecuteTime": {
     "end_time": "2023-10-01T14:47:32.087139Z",
     "start_time": "2023-10-01T14:47:32.080339Z"
    },
    "jupyter": {
     "outputs_hidden": false
    },
    "colab": {
     "base_uri": "https://localhost:8080/"
    },
    "id": "78Hs7iDEuvWI",
    "outputId": "e13a6dbf-e78d-4fd7-b72b-1a6161a63a6b"
   },
   "outputs": [
    {
     "output_type": "stream",
     "name": "stdout",
     "text": [
      "[CLS] (NEUTRAL) guilty (NEUTRAL) until (NEUTRAL) proven (NEUTRAL) innocent (NEUTRAL) unless (NEUTRAL) you (NEUTRAL) are (NEUTRAL) a (NEUTRAL) jew (ABUSIVE) a (NEUTRAL) ni (ABUSIVE) ##gger (ABUSIVE) or (NEUTRAL) a (NEUTRAL) lover (NEUTRAL) of (NEUTRAL) both (NEUTRAL) [SEP] (NEUTRAL) "
     ]
    }
   ],
   "source": [
    "for i, token_label in enumerate(tokens_classes):\n",
    "    print(f'{tokens[i]} ({id2label[token_label.item()]})', end=' ')"
   ]
  },
  {
   "cell_type": "code",
   "execution_count": 61,
   "metadata": {
    "ExecuteTime": {
     "end_time": "2023-10-01T14:47:33.174962Z",
     "start_time": "2023-10-01T14:47:33.170411Z"
    },
    "jupyter": {
     "outputs_hidden": false
    },
    "id": "0HuGbCoUuvWJ"
   },
   "outputs": [],
   "source": [
    "def generate_text_highlighted(preds, tokens, canvas=(450, 300)):\n",
    "    im = Image.new(mode='RGBA', size=canvas, color=(255, 255, 255, 255))\n",
    "\n",
    "    img = ImageDraw.Draw(im)\n",
    "\n",
    "    def highlight(xy, wh, color):\n",
    "        img.rectangle(xy=(xy[0] - 0.5, xy[1] - 0.5, xy[0] + wh[0], xy[1] + wh[1]), fill=color)  # , outline='red'\n",
    "\n",
    "    # highlight((28, 36), wh=(5, 12), color=(255, 0, 0, 100))\n",
    "    # img.text((28, 36), 'nice Car', fill=(0, 0, 0, 200))\n",
    "\n",
    "    x = 28\n",
    "    y = 36\n",
    "    for i, token in enumerate(tokens):\n",
    "        if preds[i] == 1:\n",
    "            x += 3\n",
    "            highlight((x, y), wh=(6 * len(token), 12), color=(255, 0, 0, 100))\n",
    "            img.text((x, y), token, fill=(0, 0, 0, 200))\n",
    "        else:\n",
    "            img.text((x, y), token, fill=(0, 0, 0, 255))\n",
    "\n",
    "        x += 1.4 * 5 * len(token)\n",
    "        if x + 35 >= canvas[0]:\n",
    "            x = 28\n",
    "            y += 1.4 * 7\n",
    "\n",
    "    return im"
   ]
  },
  {
   "cell_type": "code",
   "execution_count": 62,
   "metadata": {
    "ExecuteTime": {
     "end_time": "2023-10-01T14:47:34.355200Z",
     "start_time": "2023-10-01T14:47:34.331181Z"
    },
    "jupyter": {
     "outputs_hidden": false
    },
    "colab": {
     "base_uri": "https://localhost:8080/",
     "height": 317
    },
    "id": "cUn6GYISuvWJ",
    "outputId": "6b962d37-e4e2-4616-9932-a358c7c26e4a"
   },
   "outputs": [
    {
     "output_type": "execute_result",
     "data": {
      "text/plain": [
       "<PIL.Image.Image image mode=RGBA size=450x300>"
      ],
      "image/png": "[encoded data removed]"
     },
     "metadata": {},
     "execution_count": 62
    }
   ],
   "source": [
    "generate_text_highlighted(tokens_classes, tokens)"
   ]
  },
  {
   "cell_type": "code",
   "execution_count": null,
   "metadata": {
    "jupyter": {
     "outputs_hidden": false
    },
    "id": "L5y1MjgRuvWJ"
   },
   "outputs": [],
   "source": []
  }
 ],
 "metadata": {
  "kernelspec": {
   "name": "python3",
   "language": "python",
   "display_name": "Python 3 (ipykernel)"
  },
  "language_info": {
   "codemirror_mode": {
    "name": "ipython",
    "version": 3
   },
   "file_extension": ".py",
   "mimetype": "text/x-python",
   "name": "python",
   "nbconvert_exporter": "python",
   "pygments_lexer": "ipython3",
   "version": "3.8.10"
  },
  "colab": {
   "provenance": [],
   "gpuType": "T4"
  },
  "accelerator": "GPU",
  "widgets": {
   "application/vnd.jupyter.widget-state+json": {
    "35271b59b6bf4f709059d9783d3ae724": {
     "model_module": "@jupyter-widgets/controls",
     "model_name": "HBoxModel",
     "model_module_version": "1.5.0",
     "state": {
      "_dom_classes": [],
      "_model_module": "@jupyter-widgets/controls",
      "_model_module_version": "1.5.0",
      "_model_name": "HBoxModel",
      "_view_count": null,
      "_view_module": "@jupyter-widgets/controls",
      "_view_module_version": "1.5.0",
      "_view_name": "HBoxView",
      "box_style": "",
      "children": [
       "IPY_MODEL_752636f5bb84499e8f64c287fad81327",
       "IPY_MODEL_379b921cbb3f45f28a85d85d4e7dd947",
       "IPY_MODEL_2bf09ce13e2744678cd24977cf06da5e"
      ],
      "layout": "IPY_MODEL_c71b796b3856484497114f6006b6cbe2"
     }
    },
    "752636f5bb84499e8f64c287fad81327": {
     "model_module": "@jupyter-widgets/controls",
     "model_name": "HTMLModel",
     "model_module_version": "1.5.0",
     "state": {
      "_dom_classes": [],
      "_model_module": "@jupyter-widgets/controls",
      "_model_module_version": "1.5.0",
      "_model_name": "HTMLModel",
      "_view_count": null,
      "_view_module": "@jupyter-widgets/controls",
      "_view_module_version": "1.5.0",
      "_view_name": "HTMLView",
      "description": "",
      "description_tooltip": null,
      "layout": "IPY_MODEL_31063f4fd2784d15bf0fdf85079096fc",
      "placeholder": "​",
      "style": "IPY_MODEL_843da094ee8e4535a53369cbe8e15762",
      "value": "Downloading (…)solve/main/vocab.txt: 100%"
     }
    },
    "379b921cbb3f45f28a85d85d4e7dd947": {
     "model_module": "@jupyter-widgets/controls",
     "model_name": "FloatProgressModel",
     "model_module_version": "1.5.0",
     "state": {
      "_dom_classes": [],
      "_model_module": "@jupyter-widgets/controls",
      "_model_module_version": "1.5.0",
      "_model_name": "FloatProgressModel",
      "_view_count": null,
      "_view_module": "@jupyter-widgets/controls",
      "_view_module_version": "1.5.0",
      "_view_name": "ProgressView",
      "bar_style": "success",
      "description": "",
      "description_tooltip": null,
      "layout": "IPY_MODEL_d6bdfbc0f3cc440fb7b4db21e45d2d3b",
      "max": 231508,
      "min": 0,
      "orientation": "horizontal",
      "style": "IPY_MODEL_5b860badd3444323ab0e7fdeabf44700",
      "value": 231508
     }
    },
    "2bf09ce13e2744678cd24977cf06da5e": {
     "model_module": "@jupyter-widgets/controls",
     "model_name": "HTMLModel",
     "model_module_version": "1.5.0",
     "state": {
      "_dom_classes": [],
      "_model_module": "@jupyter-widgets/controls",
      "_model_module_version": "1.5.0",
      "_model_name": "HTMLModel",
      "_view_count": null,
      "_view_module": "@jupyter-widgets/controls",
      "_view_module_version": "1.5.0",
      "_view_name": "HTMLView",
      "description": "",
      "description_tooltip": null,
      "layout": "IPY_MODEL_20d36d229d3848909becf0963e408eaf",
      "placeholder": "​",
      "style": "IPY_MODEL_ea88b35c924e43c39340bf3264f0f2f2",
      "value": " 232k/232k [00:00&lt;00:00, 5.11MB/s]"
     }
    },
    "c71b796b3856484497114f6006b6cbe2": {
     "model_module": "@jupyter-widgets/base",
     "model_name": "LayoutModel",
     "model_module_version": "1.2.0",
     "state": {
      "_model_module": "@jupyter-widgets/base",
      "_model_module_version": "1.2.0",
      "_model_name": "LayoutModel",
      "_view_count": null,
      "_view_module": "@jupyter-widgets/base",
      "_view_module_version": "1.2.0",
      "_view_name": "LayoutView",
      "align_content": null,
      "align_items": null,
      "align_self": null,
      "border": null,
      "bottom": null,
      "display": null,
      "flex": null,
      "flex_flow": null,
      "grid_area": null,
      "grid_auto_columns": null,
      "grid_auto_flow": null,
      "grid_auto_rows": null,
      "grid_column": null,
      "grid_gap": null,
      "grid_row": null,
      "grid_template_areas": null,
      "grid_template_columns": null,
      "grid_template_rows": null,
      "height": null,
      "justify_content": null,
      "justify_items": null,
      "left": null,
      "margin": null,
      "max_height": null,
      "max_width": null,
      "min_height": null,
      "min_width": null,
      "object_fit": null,
      "object_position": null,
      "order": null,
      "overflow": null,
      "overflow_x": null,
      "overflow_y": null,
      "padding": null,
      "right": null,
      "top": null,
      "visibility": null,
      "width": null
     }
    },
    "31063f4fd2784d15bf0fdf85079096fc": {
     "model_module": "@jupyter-widgets/base",
     "model_name": "LayoutModel",
     "model_module_version": "1.2.0",
     "state": {
      "_model_module": "@jupyter-widgets/base",
      "_model_module_version": "1.2.0",
      "_model_name": "LayoutModel",
      "_view_count": null,
      "_view_module": "@jupyter-widgets/base",
      "_view_module_version": "1.2.0",
      "_view_name": "LayoutView",
      "align_content": null,
      "align_items": null,
      "align_self": null,
      "border": null,
      "bottom": null,
      "display": null,
      "flex": null,
      "flex_flow": null,
      "grid_area": null,
      "grid_auto_columns": null,
      "grid_auto_flow": null,
      "grid_auto_rows": null,
      "grid_column": null,
      "grid_gap": null,
      "grid_row": null,
      "grid_template_areas": null,
      "grid_template_columns": null,
      "grid_template_rows": null,
      "height": null,
      "justify_content": null,
      "justify_items": null,
      "left": null,
      "margin": null,
      "max_height": null,
      "max_width": null,
      "min_height": null,
      "min_width": null,
      "object_fit": null,
      "object_position": null,
      "order": null,
      "overflow": null,
      "overflow_x": null,
      "overflow_y": null,
      "padding": null,
      "right": null,
      "top": null,
      "visibility": null,
      "width": null
     }
    },
    "843da094ee8e4535a53369cbe8e15762": {
     "model_module": "@jupyter-widgets/controls",
     "model_name": "DescriptionStyleModel",
     "model_module_version": "1.5.0",
     "state": {
      "_model_module": "@jupyter-widgets/controls",
      "_model_module_version": "1.5.0",
      "_model_name": "DescriptionStyleModel",
      "_view_count": null,
      "_view_module": "@jupyter-widgets/base",
      "_view_module_version": "1.2.0",
      "_view_name": "StyleView",
      "description_width": ""
     }
    },
    "d6bdfbc0f3cc440fb7b4db21e45d2d3b": {
     "model_module": "@jupyter-widgets/base",
     "model_name": "LayoutModel",
     "model_module_version": "1.2.0",
     "state": {
      "_model_module": "@jupyter-widgets/base",
      "_model_module_version": "1.2.0",
      "_model_name": "LayoutModel",
      "_view_count": null,
      "_view_module": "@jupyter-widgets/base",
      "_view_module_version": "1.2.0",
      "_view_name": "LayoutView",
      "align_content": null,
      "align_items": null,
      "align_self": null,
      "border": null,
      "bottom": null,
      "display": null,
      "flex": null,
      "flex_flow": null,
      "grid_area": null,
      "grid_auto_columns": null,
      "grid_auto_flow": null,
      "grid_auto_rows": null,
      "grid_column": null,
      "grid_gap": null,
      "grid_row": null,
      "grid_template_areas": null,
      "grid_template_columns": null,
      "grid_template_rows": null,
      "height": null,
      "justify_content": null,
      "justify_items": null,
      "left": null,
      "margin": null,
      "max_height": null,
      "max_width": null,
      "min_height": null,
      "min_width": null,
      "object_fit": null,
      "object_position": null,
      "order": null,
      "overflow": null,
      "overflow_x": null,
      "overflow_y": null,
      "padding": null,
      "right": null,
      "top": null,
      "visibility": null,
      "width": null
     }
    },
    "5b860badd3444323ab0e7fdeabf44700": {
     "model_module": "@jupyter-widgets/controls",
     "model_name": "ProgressStyleModel",
     "model_module_version": "1.5.0",
     "state": {
      "_model_module": "@jupyter-widgets/controls",
      "_model_module_version": "1.5.0",
      "_model_name": "ProgressStyleModel",
      "_view_count": null,
      "_view_module": "@jupyter-widgets/base",
      "_view_module_version": "1.2.0",
      "_view_name": "StyleView",
      "bar_color": null,
      "description_width": ""
     }
    },
    "20d36d229d3848909becf0963e408eaf": {
     "model_module": "@jupyter-widgets/base",
     "model_name": "LayoutModel",
     "model_module_version": "1.2.0",
     "state": {
      "_model_module": "@jupyter-widgets/base",
      "_model_module_version": "1.2.0",
      "_model_name": "LayoutModel",
      "_view_count": null,
      "_view_module": "@jupyter-widgets/base",
      "_view_module_version": "1.2.0",
      "_view_name": "LayoutView",
      "align_content": null,
      "align_items": null,
      "align_self": null,
      "border": null,
      "bottom": null,
      "display": null,
      "flex": null,
      "flex_flow": null,
      "grid_area": null,
      "grid_auto_columns": null,
      "grid_auto_flow": null,
      "grid_auto_rows": null,
      "grid_column": null,
      "grid_gap": null,
      "grid_row": null,
      "grid_template_areas": null,
      "grid_template_columns": null,
      "grid_template_rows": null,
      "height": null,
      "justify_content": null,
      "justify_items": null,
      "left": null,
      "margin": null,
      "max_height": null,
      "max_width": null,
      "min_height": null,
      "min_width": null,
      "object_fit": null,
      "object_position": null,
      "order": null,
      "overflow": null,
      "overflow_x": null,
      "overflow_y": null,
      "padding": null,
      "right": null,
      "top": null,
      "visibility": null,
      "width": null
     }
    },
    "ea88b35c924e43c39340bf3264f0f2f2": {
     "model_module": "@jupyter-widgets/controls",
     "model_name": "DescriptionStyleModel",
     "model_module_version": "1.5.0",
     "state": {
      "_model_module": "@jupyter-widgets/controls",
      "_model_module_version": "1.5.0",
      "_model_name": "DescriptionStyleModel",
      "_view_count": null,
      "_view_module": "@jupyter-widgets/base",
      "_view_module_version": "1.2.0",
      "_view_name": "StyleView",
      "description_width": ""
     }
    },
    "6f58340c1e6044f4b398aef8c94e00fe": {
     "model_module": "@jupyter-widgets/controls",
     "model_name": "HBoxModel",
     "model_module_version": "1.5.0",
     "state": {
      "_dom_classes": [],
      "_model_module": "@jupyter-widgets/controls",
      "_model_module_version": "1.5.0",
      "_model_name": "HBoxModel",
      "_view_count": null,
      "_view_module": "@jupyter-widgets/controls",
      "_view_module_version": "1.5.0",
      "_view_name": "HBoxView",
      "box_style": "",
      "children": [
       "IPY_MODEL_6f14da6ce00d4521927d4cad65c60ae0",
       "IPY_MODEL_c93454a0411448469abca1b93e210efc",
       "IPY_MODEL_19f44fef248a403d82cf6bb8e34ffb6d"
      ],
      "layout": "IPY_MODEL_451ca7f6ed824d2cb16132f14bad4391"
     }
    },
    "6f14da6ce00d4521927d4cad65c60ae0": {
     "model_module": "@jupyter-widgets/controls",
     "model_name": "HTMLModel",
     "model_module_version": "1.5.0",
     "state": {
      "_dom_classes": [],
      "_model_module": "@jupyter-widgets/controls",
      "_model_module_version": "1.5.0",
      "_model_name": "HTMLModel",
      "_view_count": null,
      "_view_module": "@jupyter-widgets/controls",
      "_view_module_version": "1.5.0",
      "_view_name": "HTMLView",
      "description": "",
      "description_tooltip": null,
      "layout": "IPY_MODEL_94f76b6aeb2a44bdb5cdff672c05215d",
      "placeholder": "​",
      "style": "IPY_MODEL_d072df93ae9f49caa99156a68cea06fa",
      "value": "Downloading (…)cial_tokens_map.json: 100%"
     }
    },
    "c93454a0411448469abca1b93e210efc": {
     "model_module": "@jupyter-widgets/controls",
     "model_name": "FloatProgressModel",
     "model_module_version": "1.5.0",
     "state": {
      "_dom_classes": [],
      "_model_module": "@jupyter-widgets/controls",
      "_model_module_version": "1.5.0",
      "_model_name": "FloatProgressModel",
      "_view_count": null,
      "_view_module": "@jupyter-widgets/controls",
      "_view_module_version": "1.5.0",
      "_view_name": "ProgressView",
      "bar_style": "success",
      "description": "",
      "description_tooltip": null,
      "layout": "IPY_MODEL_40ce00a01d484777b279ba0923001be6",
      "max": 112,
      "min": 0,
      "orientation": "horizontal",
      "style": "IPY_MODEL_d273ad6ee880420285ebc740e94b8d0e",
      "value": 112
     }
    },
    "19f44fef248a403d82cf6bb8e34ffb6d": {
     "model_module": "@jupyter-widgets/controls",
     "model_name": "HTMLModel",
     "model_module_version": "1.5.0",
     "state": {
      "_dom_classes": [],
      "_model_module": "@jupyter-widgets/controls",
      "_model_module_version": "1.5.0",
      "_model_name": "HTMLModel",
      "_view_count": null,
      "_view_module": "@jupyter-widgets/controls",
      "_view_module_version": "1.5.0",
      "_view_name": "HTMLView",
      "description": "",
      "description_tooltip": null,
      "layout": "IPY_MODEL_e365b6a6f730435484f86259f8daec37",
      "placeholder": "​",
      "style": "IPY_MODEL_779c4c98f5f54c4e91b808b18cf24fdb",
      "value": " 112/112 [00:00&lt;00:00, 2.78kB/s]"
     }
    },
    "451ca7f6ed824d2cb16132f14bad4391": {
     "model_module": "@jupyter-widgets/base",
     "model_name": "LayoutModel",
     "model_module_version": "1.2.0",
     "state": {
      "_model_module": "@jupyter-widgets/base",
      "_model_module_version": "1.2.0",
      "_model_name": "LayoutModel",
      "_view_count": null,
      "_view_module": "@jupyter-widgets/base",
      "_view_module_version": "1.2.0",
      "_view_name": "LayoutView",
      "align_content": null,
      "align_items": null,
      "align_self": null,
      "border": null,
      "bottom": null,
      "display": null,
      "flex": null,
      "flex_flow": null,
      "grid_area": null,
      "grid_auto_columns": null,
      "grid_auto_flow": null,
      "grid_auto_rows": null,
      "grid_column": null,
      "grid_gap": null,
      "grid_row": null,
      "grid_template_areas": null,
      "grid_template_columns": null,
      "grid_template_rows": null,
      "height": null,
      "justify_content": null,
      "justify_items": null,
      "left": null,
      "margin": null,
      "max_height": null,
      "max_width": null,
      "min_height": null,
      "min_width": null,
      "object_fit": null,
      "object_position": null,
      "order": null,
      "overflow": null,
      "overflow_x": null,
      "overflow_y": null,
      "padding": null,
      "right": null,
      "top": null,
      "visibility": null,
      "width": null
     }
    },
    "94f76b6aeb2a44bdb5cdff672c05215d": {
     "model_module": "@jupyter-widgets/base",
     "model_name": "LayoutModel",
     "model_module_version": "1.2.0",
     "state": {
      "_model_module": "@jupyter-widgets/base",
      "_model_module_version": "1.2.0",
      "_model_name": "LayoutModel",
      "_view_count": null,
      "_view_module": "@jupyter-widgets/base",
      "_view_module_version": "1.2.0",
      "_view_name": "LayoutView",
      "align_content": null,
      "align_items": null,
      "align_self": null,
      "border": null,
      "bottom": null,
      "display": null,
      "flex": null,
      "flex_flow": null,
      "grid_area": null,
      "grid_auto_columns": null,
      "grid_auto_flow": null,
      "grid_auto_rows": null,
      "grid_column": null,
      "grid_gap": null,
      "grid_row": null,
      "grid_template_areas": null,
      "grid_template_columns": null,
      "grid_template_rows": null,
      "height": null,
      "justify_content": null,
      "justify_items": null,
      "left": null,
      "margin": null,
      "max_height": null,
      "max_width": null,
      "min_height": null,
      "min_width": null,
      "object_fit": null,
      "object_position": null,
      "order": null,
      "overflow": null,
      "overflow_x": null,
      "overflow_y": null,
      "padding": null,
      "right": null,
      "top": null,
      "visibility": null,
      "width": null
     }
    },
    "d072df93ae9f49caa99156a68cea06fa": {
     "model_module": "@jupyter-widgets/controls",
     "model_name": "DescriptionStyleModel",
     "model_module_version": "1.5.0",
     "state": {
      "_model_module": "@jupyter-widgets/controls",
      "_model_module_version": "1.5.0",
      "_model_name": "DescriptionStyleModel",
      "_view_count": null,
      "_view_module": "@jupyter-widgets/base",
      "_view_module_version": "1.2.0",
      "_view_name": "StyleView",
      "description_width": ""
     }
    },
    "40ce00a01d484777b279ba0923001be6": {
     "model_module": "@jupyter-widgets/base",
     "model_name": "LayoutModel",
     "model_module_version": "1.2.0",
     "state": {
      "_model_module": "@jupyter-widgets/base",
      "_model_module_version": "1.2.0",
      "_model_name": "LayoutModel",
      "_view_count": null,
      "_view_module": "@jupyter-widgets/base",
      "_view_module_version": "1.2.0",
      "_view_name": "LayoutView",
      "align_content": null,
      "align_items": null,
      "align_self": null,
      "border": null,
      "bottom": null,
      "display": null,
      "flex": null,
      "flex_flow": null,
      "grid_area": null,
      "grid_auto_columns": null,
      "grid_auto_flow": null,
      "grid_auto_rows": null,
      "grid_column": null,
      "grid_gap": null,
      "grid_row": null,
      "grid_template_areas": null,
      "grid_template_columns": null,
      "grid_template_rows": null,
      "height": null,
      "justify_content": null,
      "justify_items": null,
      "left": null,
      "margin": null,
      "max_height": null,
      "max_width": null,
      "min_height": null,
      "min_width": null,
      "object_fit": null,
      "object_position": null,
      "order": null,
      "overflow": null,
      "overflow_x": null,
      "overflow_y": null,
      "padding": null,
      "right": null,
      "top": null,
      "visibility": null,
      "width": null
     }
    },
    "d273ad6ee880420285ebc740e94b8d0e": {
     "model_module": "@jupyter-widgets/controls",
     "model_name": "ProgressStyleModel",
     "model_module_version": "1.5.0",
     "state": {
      "_model_module": "@jupyter-widgets/controls",
      "_model_module_version": "1.5.0",
      "_model_name": "ProgressStyleModel",
      "_view_count": null,
      "_view_module": "@jupyter-widgets/base",
      "_view_module_version": "1.2.0",
      "_view_name": "StyleView",
      "bar_color": null,
      "description_width": ""
     }
    },
    "e365b6a6f730435484f86259f8daec37": {
     "model_module": "@jupyter-widgets/base",
     "model_name": "LayoutModel",
     "model_module_version": "1.2.0",
     "state": {
      "_model_module": "@jupyter-widgets/base",
      "_model_module_version": "1.2.0",
      "_model_name": "LayoutModel",
      "_view_count": null,
      "_view_module": "@jupyter-widgets/base",
      "_view_module_version": "1.2.0",
      "_view_name": "LayoutView",
      "align_content": null,
      "align_items": null,
      "align_self": null,
      "border": null,
      "bottom": null,
      "display": null,
      "flex": null,
      "flex_flow": null,
      "grid_area": null,
      "grid_auto_columns": null,
      "grid_auto_flow": null,
      "grid_auto_rows": null,
      "grid_column": null,
      "grid_gap": null,
      "grid_row": null,
      "grid_template_areas": null,
      "grid_template_columns": null,
      "grid_template_rows": null,
      "height": null,
      "justify_content": null,
      "justify_items": null,
      "left": null,
      "margin": null,
      "max_height": null,
      "max_width": null,
      "min_height": null,
      "min_width": null,
      "object_fit": null,
      "object_position": null,
      "order": null,
      "overflow": null,
      "overflow_x": null,
      "overflow_y": null,
      "padding": null,
      "right": null,
      "top": null,
      "visibility": null,
      "width": null
     }
    },
    "779c4c98f5f54c4e91b808b18cf24fdb": {
     "model_module": "@jupyter-widgets/controls",
     "model_name": "DescriptionStyleModel",
     "model_module_version": "1.5.0",
     "state": {
      "_model_module": "@jupyter-widgets/controls",
      "_model_module_version": "1.5.0",
      "_model_name": "DescriptionStyleModel",
      "_view_count": null,
      "_view_module": "@jupyter-widgets/base",
      "_view_module_version": "1.2.0",
      "_view_name": "StyleView",
      "description_width": ""
     }
    },
    "49f6481eae5e48e2bf6c8b6b68893648": {
     "model_module": "@jupyter-widgets/controls",
     "model_name": "HBoxModel",
     "model_module_version": "1.5.0",
     "state": {
      "_dom_classes": [],
      "_model_module": "@jupyter-widgets/controls",
      "_model_module_version": "1.5.0",
      "_model_name": "HBoxModel",
      "_view_count": null,
      "_view_module": "@jupyter-widgets/controls",
      "_view_module_version": "1.5.0",
      "_view_name": "HBoxView",
      "box_style": "",
      "children": [
       "IPY_MODEL_f7fdec69cb37499f94f5d329cbb58c66",
       "IPY_MODEL_7d72d07fdaaa438aa260a9ea0ca7072d",
       "IPY_MODEL_1c7b324360c3446887328caa328e2f17"
      ],
      "layout": "IPY_MODEL_373b8a45660b444286d651f92b085b79"
     }
    },
    "f7fdec69cb37499f94f5d329cbb58c66": {
     "model_module": "@jupyter-widgets/controls",
     "model_name": "HTMLModel",
     "model_module_version": "1.5.0",
     "state": {
      "_dom_classes": [],
      "_model_module": "@jupyter-widgets/controls",
      "_model_module_version": "1.5.0",
      "_model_name": "HTMLModel",
      "_view_count": null,
      "_view_module": "@jupyter-widgets/controls",
      "_view_module_version": "1.5.0",
      "_view_name": "HTMLView",
      "description": "",
      "description_tooltip": null,
      "layout": "IPY_MODEL_e782e8b58a544c4da9aedd8f1ea2d208",
      "placeholder": "​",
      "style": "IPY_MODEL_fb99722dbd154736aa06e7673c03afab",
      "value": "Downloading (…)okenizer_config.json: 100%"
     }
    },
    "7d72d07fdaaa438aa260a9ea0ca7072d": {
     "model_module": "@jupyter-widgets/controls",
     "model_name": "FloatProgressModel",
     "model_module_version": "1.5.0",
     "state": {
      "_dom_classes": [],
      "_model_module": "@jupyter-widgets/controls",
      "_model_module_version": "1.5.0",
      "_model_name": "FloatProgressModel",
      "_view_count": null,
      "_view_module": "@jupyter-widgets/controls",
      "_view_module_version": "1.5.0",
      "_view_name": "ProgressView",
      "bar_style": "success",
      "description": "",
      "description_tooltip": null,
      "layout": "IPY_MODEL_805dc929b0e84bcf93bf354e3fb7d0ac",
      "max": 299,
      "min": 0,
      "orientation": "horizontal",
      "style": "IPY_MODEL_5f8f7ad97c62437b96eff7a532ec5f0d",
      "value": 299
     }
    },
    "1c7b324360c3446887328caa328e2f17": {
     "model_module": "@jupyter-widgets/controls",
     "model_name": "HTMLModel",
     "model_module_version": "1.5.0",
     "state": {
      "_dom_classes": [],
      "_model_module": "@jupyter-widgets/controls",
      "_model_module_version": "1.5.0",
      "_model_name": "HTMLModel",
      "_view_count": null,
      "_view_module": "@jupyter-widgets/controls",
      "_view_module_version": "1.5.0",
      "_view_name": "HTMLView",
      "description": "",
      "description_tooltip": null,
      "layout": "IPY_MODEL_9a616fa54c0c4ed38649a05e5d589bb7",
      "placeholder": "​",
      "style": "IPY_MODEL_60dea180be2242ab8b83c1bd0fb5428e",
      "value": " 299/299 [00:00&lt;00:00, 8.91kB/s]"
     }
    },
    "373b8a45660b444286d651f92b085b79": {
     "model_module": "@jupyter-widgets/base",
     "model_name": "LayoutModel",
     "model_module_version": "1.2.0",
     "state": {
      "_model_module": "@jupyter-widgets/base",
      "_model_module_version": "1.2.0",
      "_model_name": "LayoutModel",
      "_view_count": null,
      "_view_module": "@jupyter-widgets/base",
      "_view_module_version": "1.2.0",
      "_view_name": "LayoutView",
      "align_content": null,
      "align_items": null,
      "align_self": null,
      "border": null,
      "bottom": null,
      "display": null,
      "flex": null,
      "flex_flow": null,
      "grid_area": null,
      "grid_auto_columns": null,
      "grid_auto_flow": null,
      "grid_auto_rows": null,
      "grid_column": null,
      "grid_gap": null,
      "grid_row": null,
      "grid_template_areas": null,
      "grid_template_columns": null,
      "grid_template_rows": null,
      "height": null,
      "justify_content": null,
      "justify_items": null,
      "left": null,
      "margin": null,
      "max_height": null,
      "max_width": null,
      "min_height": null,
      "min_width": null,
      "object_fit": null,
      "object_position": null,
      "order": null,
      "overflow": null,
      "overflow_x": null,
      "overflow_y": null,
      "padding": null,
      "right": null,
      "top": null,
      "visibility": null,
      "width": null
     }
    },
    "e782e8b58a544c4da9aedd8f1ea2d208": {
     "model_module": "@jupyter-widgets/base",
     "model_name": "LayoutModel",
     "model_module_version": "1.2.0",
     "state": {
      "_model_module": "@jupyter-widgets/base",
      "_model_module_version": "1.2.0",
      "_model_name": "LayoutModel",
      "_view_count": null,
      "_view_module": "@jupyter-widgets/base",
      "_view_module_version": "1.2.0",
      "_view_name": "LayoutView",
      "align_content": null,
      "align_items": null,
      "align_self": null,
      "border": null,
      "bottom": null,
      "display": null,
      "flex": null,
      "flex_flow": null,
      "grid_area": null,
      "grid_auto_columns": null,
      "grid_auto_flow": null,
      "grid_auto_rows": null,
      "grid_column": null,
      "grid_gap": null,
      "grid_row": null,
      "grid_template_areas": null,
      "grid_template_columns": null,
      "grid_template_rows": null,
      "height": null,
      "justify_content": null,
      "justify_items": null,
      "left": null,
      "margin": null,
      "max_height": null,
      "max_width": null,
      "min_height": null,
      "min_width": null,
      "object_fit": null,
      "object_position": null,
      "order": null,
      "overflow": null,
      "overflow_x": null,
      "overflow_y": null,
      "padding": null,
      "right": null,
      "top": null,
      "visibility": null,
      "width": null
     }
    },
    "fb99722dbd154736aa06e7673c03afab": {
     "model_module": "@jupyter-widgets/controls",
     "model_name": "DescriptionStyleModel",
     "model_module_version": "1.5.0",
     "state": {
      "_model_module": "@jupyter-widgets/controls",
      "_model_module_version": "1.5.0",
      "_model_name": "DescriptionStyleModel",
      "_view_count": null,
      "_view_module": "@jupyter-widgets/base",
      "_view_module_version": "1.2.0",
      "_view_name": "StyleView",
      "description_width": ""
     }
    },
    "805dc929b0e84bcf93bf354e3fb7d0ac": {
     "model_module": "@jupyter-widgets/base",
     "model_name": "LayoutModel",
     "model_module_version": "1.2.0",
     "state": {
      "_model_module": "@jupyter-widgets/base",
      "_model_module_version": "1.2.0",
      "_model_name": "LayoutModel",
      "_view_count": null,
      "_view_module": "@jupyter-widgets/base",
      "_view_module_version": "1.2.0",
      "_view_name": "LayoutView",
      "align_content": null,
      "align_items": null,
      "align_self": null,
      "border": null,
      "bottom": null,
      "display": null,
      "flex": null,
      "flex_flow": null,
      "grid_area": null,
      "grid_auto_columns": null,
      "grid_auto_flow": null,
      "grid_auto_rows": null,
      "grid_column": null,
      "grid_gap": null,
      "grid_row": null,
      "grid_template_areas": null,
      "grid_template_columns": null,
      "grid_template_rows": null,
      "height": null,
      "justify_content": null,
      "justify_items": null,
      "left": null,
      "margin": null,
      "max_height": null,
      "max_width": null,
      "min_height": null,
      "min_width": null,
      "object_fit": null,
      "object_position": null,
      "order": null,
      "overflow": null,
      "overflow_x": null,
      "overflow_y": null,
      "padding": null,
      "right": null,
      "top": null,
      "visibility": null,
      "width": null
     }
    },
    "5f8f7ad97c62437b96eff7a532ec5f0d": {
     "model_module": "@jupyter-widgets/controls",
     "model_name": "ProgressStyleModel",
     "model_module_version": "1.5.0",
     "state": {
      "_model_module": "@jupyter-widgets/controls",
      "_model_module_version": "1.5.0",
      "_model_name": "ProgressStyleModel",
      "_view_count": null,
      "_view_module": "@jupyter-widgets/base",
      "_view_module_version": "1.2.0",
      "_view_name": "StyleView",
      "bar_color": null,
      "description_width": ""
     }
    },
    "9a616fa54c0c4ed38649a05e5d589bb7": {
     "model_module": "@jupyter-widgets/base",
     "model_name": "LayoutModel",
     "model_module_version": "1.2.0",
     "state": {
      "_model_module": "@jupyter-widgets/base",
      "_model_module_version": "1.2.0",
      "_model_name": "LayoutModel",
      "_view_count": null,
      "_view_module": "@jupyter-widgets/base",
      "_view_module_version": "1.2.0",
      "_view_name": "LayoutView",
      "align_content": null,
      "align_items": null,
      "align_self": null,
      "border": null,
      "bottom": null,
      "display": null,
      "flex": null,
      "flex_flow": null,
      "grid_area": null,
      "grid_auto_columns": null,
      "grid_auto_flow": null,
      "grid_auto_rows": null,
      "grid_column": null,
      "grid_gap": null,
      "grid_row": null,
      "grid_template_areas": null,
      "grid_template_columns": null,
      "grid_template_rows": null,
      "height": null,
      "justify_content": null,
      "justify_items": null,
      "left": null,
      "margin": null,
      "max_height": null,
      "max_width": null,
      "min_height": null,
      "min_width": null,
      "object_fit": null,
      "object_position": null,
      "order": null,
      "overflow": null,
      "overflow_x": null,
      "overflow_y": null,
      "padding": null,
      "right": null,
      "top": null,
      "visibility": null,
      "width": null
     }
    },
    "60dea180be2242ab8b83c1bd0fb5428e": {
     "model_module": "@jupyter-widgets/controls",
     "model_name": "DescriptionStyleModel",
     "model_module_version": "1.5.0",
     "state": {
      "_model_module": "@jupyter-widgets/controls",
      "_model_module_version": "1.5.0",
      "_model_name": "DescriptionStyleModel",
      "_view_count": null,
      "_view_module": "@jupyter-widgets/base",
      "_view_module_version": "1.2.0",
      "_view_name": "StyleView",
      "description_width": ""
     }
    },
    "8da73232bc04433dbfa02351d1ff2012": {
     "model_module": "@jupyter-widgets/controls",
     "model_name": "HBoxModel",
     "model_module_version": "1.5.0",
     "state": {
      "_dom_classes": [],
      "_model_module": "@jupyter-widgets/controls",
      "_model_module_version": "1.5.0",
      "_model_name": "HBoxModel",
      "_view_count": null,
      "_view_module": "@jupyter-widgets/controls",
      "_view_module_version": "1.5.0",
      "_view_name": "HBoxView",
      "box_style": "",
      "children": [
       "IPY_MODEL_01874d2b34734c6cb168968b7d240c7e",
       "IPY_MODEL_592a4ac7e6c74a52a107dd12d38ad5ca",
       "IPY_MODEL_22c40e7d3930444f80d213cbdd3c0c7a"
      ],
      "layout": "IPY_MODEL_30102b199d944cb987bacd59eb8f7aec"
     }
    },
    "01874d2b34734c6cb168968b7d240c7e": {
     "model_module": "@jupyter-widgets/controls",
     "model_name": "HTMLModel",
     "model_module_version": "1.5.0",
     "state": {
      "_dom_classes": [],
      "_model_module": "@jupyter-widgets/controls",
      "_model_module_version": "1.5.0",
      "_model_name": "HTMLModel",
      "_view_count": null,
      "_view_module": "@jupyter-widgets/controls",
      "_view_module_version": "1.5.0",
      "_view_name": "HTMLView",
      "description": "",
      "description_tooltip": null,
      "layout": "IPY_MODEL_3a758fb31be144a98f8b1d743ed5f00f",
      "placeholder": "​",
      "style": "IPY_MODEL_9ed2d1ce4e804ec18c31511fcd37a948",
      "value": "Downloading (…)lve/main/config.json: 100%"
     }
    },
    "592a4ac7e6c74a52a107dd12d38ad5ca": {
     "model_module": "@jupyter-widgets/controls",
     "model_name": "FloatProgressModel",
     "model_module_version": "1.5.0",
     "state": {
      "_dom_classes": [],
      "_model_module": "@jupyter-widgets/controls",
      "_model_module_version": "1.5.0",
      "_model_name": "FloatProgressModel",
      "_view_count": null,
      "_view_module": "@jupyter-widgets/controls",
      "_view_module_version": "1.5.0",
      "_view_name": "ProgressView",
      "bar_style": "success",
      "description": "",
      "description_tooltip": null,
      "layout": "IPY_MODEL_14be75c1c9844c96b21fc7a024c73420",
      "max": 790,
      "min": 0,
      "orientation": "horizontal",
      "style": "IPY_MODEL_5540760da0f6466dafee4b83822f32c8",
      "value": 790
     }
    },
    "22c40e7d3930444f80d213cbdd3c0c7a": {
     "model_module": "@jupyter-widgets/controls",
     "model_name": "HTMLModel",
     "model_module_version": "1.5.0",
     "state": {
      "_dom_classes": [],
      "_model_module": "@jupyter-widgets/controls",
      "_model_module_version": "1.5.0",
      "_model_name": "HTMLModel",
      "_view_count": null,
      "_view_module": "@jupyter-widgets/controls",
      "_view_module_version": "1.5.0",
      "_view_name": "HTMLView",
      "description": "",
      "description_tooltip": null,
      "layout": "IPY_MODEL_ba07f01d70414f6194221d28b35c1a61",
      "placeholder": "​",
      "style": "IPY_MODEL_1d27eadf904d430bbd408f3adb34b0b1",
      "value": " 790/790 [00:00&lt;00:00, 22.2kB/s]"
     }
    },
    "30102b199d944cb987bacd59eb8f7aec": {
     "model_module": "@jupyter-widgets/base",
     "model_name": "LayoutModel",
     "model_module_version": "1.2.0",
     "state": {
      "_model_module": "@jupyter-widgets/base",
      "_model_module_version": "1.2.0",
      "_model_name": "LayoutModel",
      "_view_count": null,
      "_view_module": "@jupyter-widgets/base",
      "_view_module_version": "1.2.0",
      "_view_name": "LayoutView",
      "align_content": null,
      "align_items": null,
      "align_self": null,
      "border": null,
      "bottom": null,
      "display": null,
      "flex": null,
      "flex_flow": null,
      "grid_area": null,
      "grid_auto_columns": null,
      "grid_auto_flow": null,
      "grid_auto_rows": null,
      "grid_column": null,
      "grid_gap": null,
      "grid_row": null,
      "grid_template_areas": null,
      "grid_template_columns": null,
      "grid_template_rows": null,
      "height": null,
      "justify_content": null,
      "justify_items": null,
      "left": null,
      "margin": null,
      "max_height": null,
      "max_width": null,
      "min_height": null,
      "min_width": null,
      "object_fit": null,
      "object_position": null,
      "order": null,
      "overflow": null,
      "overflow_x": null,
      "overflow_y": null,
      "padding": null,
      "right": null,
      "top": null,
      "visibility": null,
      "width": null
     }
    },
    "3a758fb31be144a98f8b1d743ed5f00f": {
     "model_module": "@jupyter-widgets/base",
     "model_name": "LayoutModel",
     "model_module_version": "1.2.0",
     "state": {
      "_model_module": "@jupyter-widgets/base",
      "_model_module_version": "1.2.0",
      "_model_name": "LayoutModel",
      "_view_count": null,
      "_view_module": "@jupyter-widgets/base",
      "_view_module_version": "1.2.0",
      "_view_name": "LayoutView",
      "align_content": null,
      "align_items": null,
      "align_self": null,
      "border": null,
      "bottom": null,
      "display": null,
      "flex": null,
      "flex_flow": null,
      "grid_area": null,
      "grid_auto_columns": null,
      "grid_auto_flow": null,
      "grid_auto_rows": null,
      "grid_column": null,
      "grid_gap": null,
      "grid_row": null,
      "grid_template_areas": null,
      "grid_template_columns": null,
      "grid_template_rows": null,
      "height": null,
      "justify_content": null,
      "justify_items": null,
      "left": null,
      "margin": null,
      "max_height": null,
      "max_width": null,
      "min_height": null,
      "min_width": null,
      "object_fit": null,
      "object_position": null,
      "order": null,
      "overflow": null,
      "overflow_x": null,
      "overflow_y": null,
      "padding": null,
      "right": null,
      "top": null,
      "visibility": null,
      "width": null
     }
    },
    "9ed2d1ce4e804ec18c31511fcd37a948": {
     "model_module": "@jupyter-widgets/controls",
     "model_name": "DescriptionStyleModel",
     "model_module_version": "1.5.0",
     "state": {
      "_model_module": "@jupyter-widgets/controls",
      "_model_module_version": "1.5.0",
      "_model_name": "DescriptionStyleModel",
      "_view_count": null,
      "_view_module": "@jupyter-widgets/base",
      "_view_module_version": "1.2.0",
      "_view_name": "StyleView",
      "description_width": ""
     }
    },
    "14be75c1c9844c96b21fc7a024c73420": {
     "model_module": "@jupyter-widgets/base",
     "model_name": "LayoutModel",
     "model_module_version": "1.2.0",
     "state": {
      "_model_module": "@jupyter-widgets/base",
      "_model_module_version": "1.2.0",
      "_model_name": "LayoutModel",
      "_view_count": null,
      "_view_module": "@jupyter-widgets/base",
      "_view_module_version": "1.2.0",
      "_view_name": "LayoutView",
      "align_content": null,
      "align_items": null,
      "align_self": null,
      "border": null,
      "bottom": null,
      "display": null,
      "flex": null,
      "flex_flow": null,
      "grid_area": null,
      "grid_auto_columns": null,
      "grid_auto_flow": null,
      "grid_auto_rows": null,
      "grid_column": null,
      "grid_gap": null,
      "grid_row": null,
      "grid_template_areas": null,
      "grid_template_columns": null,
      "grid_template_rows": null,
      "height": null,
      "justify_content": null,
      "justify_items": null,
      "left": null,
      "margin": null,
      "max_height": null,
      "max_width": null,
      "min_height": null,
      "min_width": null,
      "object_fit": null,
      "object_position": null,
      "order": null,
      "overflow": null,
      "overflow_x": null,
      "overflow_y": null,
      "padding": null,
      "right": null,
      "top": null,
      "visibility": null,
      "width": null
     }
    },
    "5540760da0f6466dafee4b83822f32c8": {
     "model_module": "@jupyter-widgets/controls",
     "model_name": "ProgressStyleModel",
     "model_module_version": "1.5.0",
     "state": {
      "_model_module": "@jupyter-widgets/controls",
      "_model_module_version": "1.5.0",
      "_model_name": "ProgressStyleModel",
      "_view_count": null,
      "_view_module": "@jupyter-widgets/base",
      "_view_module_version": "1.2.0",
      "_view_name": "StyleView",
      "bar_color": null,
      "description_width": ""
     }
    },
    "ba07f01d70414f6194221d28b35c1a61": {
     "model_module": "@jupyter-widgets/base",
     "model_name": "LayoutModel",
     "model_module_version": "1.2.0",
     "state": {
      "_model_module": "@jupyter-widgets/base",
      "_model_module_version": "1.2.0",
      "_model_name": "LayoutModel",
      "_view_count": null,
      "_view_module": "@jupyter-widgets/base",
      "_view_module_version": "1.2.0",
      "_view_name": "LayoutView",
      "align_content": null,
      "align_items": null,
      "align_self": null,
      "border": null,
      "bottom": null,
      "display": null,
      "flex": null,
      "flex_flow": null,
      "grid_area": null,
      "grid_auto_columns": null,
      "grid_auto_flow": null,
      "grid_auto_rows": null,
      "grid_column": null,
      "grid_gap": null,
      "grid_row": null,
      "grid_template_areas": null,
      "grid_template_columns": null,
      "grid_template_rows": null,
      "height": null,
      "justify_content": null,
      "justify_items": null,
      "left": null,
      "margin": null,
      "max_height": null,
      "max_width": null,
      "min_height": null,
      "min_width": null,
      "object_fit": null,
      "object_position": null,
      "order": null,
      "overflow": null,
      "overflow_x": null,
      "overflow_y": null,
      "padding": null,
      "right": null,
      "top": null,
      "visibility": null,
      "width": null
     }
    },
    "1d27eadf904d430bbd408f3adb34b0b1": {
     "model_module": "@jupyter-widgets/controls",
     "model_name": "DescriptionStyleModel",
     "model_module_version": "1.5.0",
     "state": {
      "_model_module": "@jupyter-widgets/controls",
      "_model_module_version": "1.5.0",
      "_model_name": "DescriptionStyleModel",
      "_view_count": null,
      "_view_module": "@jupyter-widgets/base",
      "_view_module_version": "1.2.0",
      "_view_name": "StyleView",
      "description_width": ""
     }
    },
    "1550ac068c634e2fab4832f12998ea64": {
     "model_module": "@jupyter-widgets/controls",
     "model_name": "HBoxModel",
     "model_module_version": "1.5.0",
     "state": {
      "_dom_classes": [],
      "_model_module": "@jupyter-widgets/controls",
      "_model_module_version": "1.5.0",
      "_model_name": "HBoxModel",
      "_view_count": null,
      "_view_module": "@jupyter-widgets/controls",
      "_view_module_version": "1.5.0",
      "_view_name": "HBoxView",
      "box_style": "",
      "children": [
       "IPY_MODEL_b4d2c6ecd2f14bca8b4c03f2164fbbde",
       "IPY_MODEL_56c37e3289614240af148c850ad8a1e3",
       "IPY_MODEL_1fb2695d4c854bf08f2b07749330b23c"
      ],
      "layout": "IPY_MODEL_e56272570e964f2fb1692408e3fb44bd"
     }
    },
    "b4d2c6ecd2f14bca8b4c03f2164fbbde": {
     "model_module": "@jupyter-widgets/controls",
     "model_name": "HTMLModel",
     "model_module_version": "1.5.0",
     "state": {
      "_dom_classes": [],
      "_model_module": "@jupyter-widgets/controls",
      "_model_module_version": "1.5.0",
      "_model_name": "HTMLModel",
      "_view_count": null,
      "_view_module": "@jupyter-widgets/controls",
      "_view_module_version": "1.5.0",
      "_view_name": "HTMLView",
      "description": "",
      "description_tooltip": null,
      "layout": "IPY_MODEL_f98c8591cb6f4b47adf79b02a4b16578",
      "placeholder": "​",
      "style": "IPY_MODEL_c8c2748c9b1b44aeaaf86db8892d0d17",
      "value": "Downloading (…)solve/main/vocab.txt: 100%"
     }
    },
    "56c37e3289614240af148c850ad8a1e3": {
     "model_module": "@jupyter-widgets/controls",
     "model_name": "FloatProgressModel",
     "model_module_version": "1.5.0",
     "state": {
      "_dom_classes": [],
      "_model_module": "@jupyter-widgets/controls",
      "_model_module_version": "1.5.0",
      "_model_name": "FloatProgressModel",
      "_view_count": null,
      "_view_module": "@jupyter-widgets/controls",
      "_view_module_version": "1.5.0",
      "_view_name": "ProgressView",
      "bar_style": "success",
      "description": "",
      "description_tooltip": null,
      "layout": "IPY_MODEL_e1cc924d7b554ab08f956afdebe8ffa6",
      "max": 231508,
      "min": 0,
      "orientation": "horizontal",
      "style": "IPY_MODEL_6e7386b6119b4d6f8af0eb68349f1546",
      "value": 231508
     }
    },
    "1fb2695d4c854bf08f2b07749330b23c": {
     "model_module": "@jupyter-widgets/controls",
     "model_name": "HTMLModel",
     "model_module_version": "1.5.0",
     "state": {
      "_dom_classes": [],
      "_model_module": "@jupyter-widgets/controls",
      "_model_module_version": "1.5.0",
      "_model_name": "HTMLModel",
      "_view_count": null,
      "_view_module": "@jupyter-widgets/controls",
      "_view_module_version": "1.5.0",
      "_view_name": "HTMLView",
      "description": "",
      "description_tooltip": null,
      "layout": "IPY_MODEL_62fb9a9012de4ddc8b569909f1e1815c",
      "placeholder": "​",
      "style": "IPY_MODEL_0d443f544faf45a283085a291454e23a",
      "value": " 232k/232k [00:00&lt;00:00, 8.59MB/s]"
     }
    },
    "e56272570e964f2fb1692408e3fb44bd": {
     "model_module": "@jupyter-widgets/base",
     "model_name": "LayoutModel",
     "model_module_version": "1.2.0",
     "state": {
      "_model_module": "@jupyter-widgets/base",
      "_model_module_version": "1.2.0",
      "_model_name": "LayoutModel",
      "_view_count": null,
      "_view_module": "@jupyter-widgets/base",
      "_view_module_version": "1.2.0",
      "_view_name": "LayoutView",
      "align_content": null,
      "align_items": null,
      "align_self": null,
      "border": null,
      "bottom": null,
      "display": null,
      "flex": null,
      "flex_flow": null,
      "grid_area": null,
      "grid_auto_columns": null,
      "grid_auto_flow": null,
      "grid_auto_rows": null,
      "grid_column": null,
      "grid_gap": null,
      "grid_row": null,
      "grid_template_areas": null,
      "grid_template_columns": null,
      "grid_template_rows": null,
      "height": null,
      "justify_content": null,
      "justify_items": null,
      "left": null,
      "margin": null,
      "max_height": null,
      "max_width": null,
      "min_height": null,
      "min_width": null,
      "object_fit": null,
      "object_position": null,
      "order": null,
      "overflow": null,
      "overflow_x": null,
      "overflow_y": null,
      "padding": null,
      "right": null,
      "top": null,
      "visibility": null,
      "width": null
     }
    },
    "f98c8591cb6f4b47adf79b02a4b16578": {
     "model_module": "@jupyter-widgets/base",
     "model_name": "LayoutModel",
     "model_module_version": "1.2.0",
     "state": {
      "_model_module": "@jupyter-widgets/base",
      "_model_module_version": "1.2.0",
      "_model_name": "LayoutModel",
      "_view_count": null,
      "_view_module": "@jupyter-widgets/base",
      "_view_module_version": "1.2.0",
      "_view_name": "LayoutView",
      "align_content": null,
      "align_items": null,
      "align_self": null,
      "border": null,
      "bottom": null,
      "display": null,
      "flex": null,
      "flex_flow": null,
      "grid_area": null,
      "grid_auto_columns": null,
      "grid_auto_flow": null,
      "grid_auto_rows": null,
      "grid_column": null,
      "grid_gap": null,
      "grid_row": null,
      "grid_template_areas": null,
      "grid_template_columns": null,
      "grid_template_rows": null,
      "height": null,
      "justify_content": null,
      "justify_items": null,
      "left": null,
      "margin": null,
      "max_height": null,
      "max_width": null,
      "min_height": null,
      "min_width": null,
      "object_fit": null,
      "object_position": null,
      "order": null,
      "overflow": null,
      "overflow_x": null,
      "overflow_y": null,
      "padding": null,
      "right": null,
      "top": null,
      "visibility": null,
      "width": null
     }
    },
    "c8c2748c9b1b44aeaaf86db8892d0d17": {
     "model_module": "@jupyter-widgets/controls",
     "model_name": "DescriptionStyleModel",
     "model_module_version": "1.5.0",
     "state": {
      "_model_module": "@jupyter-widgets/controls",
      "_model_module_version": "1.5.0",
      "_model_name": "DescriptionStyleModel",
      "_view_count": null,
      "_view_module": "@jupyter-widgets/base",
      "_view_module_version": "1.2.0",
      "_view_name": "StyleView",
      "description_width": ""
     }
    },
    "e1cc924d7b554ab08f956afdebe8ffa6": {
     "model_module": "@jupyter-widgets/base",
     "model_name": "LayoutModel",
     "model_module_version": "1.2.0",
     "state": {
      "_model_module": "@jupyter-widgets/base",
      "_model_module_version": "1.2.0",
      "_model_name": "LayoutModel",
      "_view_count": null,
      "_view_module": "@jupyter-widgets/base",
      "_view_module_version": "1.2.0",
      "_view_name": "LayoutView",
      "align_content": null,
      "align_items": null,
      "align_self": null,
      "border": null,
      "bottom": null,
      "display": null,
      "flex": null,
      "flex_flow": null,
      "grid_area": null,
      "grid_auto_columns": null,
      "grid_auto_flow": null,
      "grid_auto_rows": null,
      "grid_column": null,
      "grid_gap": null,
      "grid_row": null,
      "grid_template_areas": null,
      "grid_template_columns": null,
      "grid_template_rows": null,
      "height": null,
      "justify_content": null,
      "justify_items": null,
      "left": null,
      "margin": null,
      "max_height": null,
      "max_width": null,
      "min_height": null,
      "min_width": null,
      "object_fit": null,
      "object_position": null,
      "order": null,
      "overflow": null,
      "overflow_x": null,
      "overflow_y": null,
      "padding": null,
      "right": null,
      "top": null,
      "visibility": null,
      "width": null
     }
    },
    "6e7386b6119b4d6f8af0eb68349f1546": {
     "model_module": "@jupyter-widgets/controls",
     "model_name": "ProgressStyleModel",
     "model_module_version": "1.5.0",
     "state": {
      "_model_module": "@jupyter-widgets/controls",
      "_model_module_version": "1.5.0",
      "_model_name": "ProgressStyleModel",
      "_view_count": null,
      "_view_module": "@jupyter-widgets/base",
      "_view_module_version": "1.2.0",
      "_view_name": "StyleView",
      "bar_color": null,
      "description_width": ""
     }
    },
    "62fb9a9012de4ddc8b569909f1e1815c": {
     "model_module": "@jupyter-widgets/base",
     "model_name": "LayoutModel",
     "model_module_version": "1.2.0",
     "state": {
      "_model_module": "@jupyter-widgets/base",
      "_model_module_version": "1.2.0",
      "_model_name": "LayoutModel",
      "_view_count": null,
      "_view_module": "@jupyter-widgets/base",
      "_view_module_version": "1.2.0",
      "_view_name": "LayoutView",
      "align_content": null,
      "align_items": null,
      "align_self": null,
      "border": null,
      "bottom": null,
      "display": null,
      "flex": null,
      "flex_flow": null,
      "grid_area": null,
      "grid_auto_columns": null,
      "grid_auto_flow": null,
      "grid_auto_rows": null,
      "grid_column": null,
      "grid_gap": null,
      "grid_row": null,
      "grid_template_areas": null,
      "grid_template_columns": null,
      "grid_template_rows": null,
      "height": null,
      "justify_content": null,
      "justify_items": null,
      "left": null,
      "margin": null,
      "max_height": null,
      "max_width": null,
      "min_height": null,
      "min_width": null,
      "object_fit": null,
      "object_position": null,
      "order": null,
      "overflow": null,
      "overflow_x": null,
      "overflow_y": null,
      "padding": null,
      "right": null,
      "top": null,
      "visibility": null,
      "width": null
     }
    },
    "0d443f544faf45a283085a291454e23a": {
     "model_module": "@jupyter-widgets/controls",
     "model_name": "DescriptionStyleModel",
     "model_module_version": "1.5.0",
     "state": {
      "_model_module": "@jupyter-widgets/controls",
      "_model_module_version": "1.5.0",
      "_model_name": "DescriptionStyleModel",
      "_view_count": null,
      "_view_module": "@jupyter-widgets/base",
      "_view_module_version": "1.2.0",
      "_view_name": "StyleView",
      "description_width": ""
     }
    },
    "9dac871e0a6542c6b04702e02faeab53": {
     "model_module": "@jupyter-widgets/controls",
     "model_name": "HBoxModel",
     "model_module_version": "1.5.0",
     "state": {
      "_dom_classes": [],
      "_model_module": "@jupyter-widgets/controls",
      "_model_module_version": "1.5.0",
      "_model_name": "HBoxModel",
      "_view_count": null,
      "_view_module": "@jupyter-widgets/controls",
      "_view_module_version": "1.5.0",
      "_view_name": "HBoxView",
      "box_style": "",
      "children": [
       "IPY_MODEL_888226c23e6c48adb565b8aaf813064a",
       "IPY_MODEL_d3de0e184fa54e058a86cf21ed74fd9c",
       "IPY_MODEL_db1ccde9ee594637ad04ff94f500abae"
      ],
      "layout": "IPY_MODEL_24fb5499989a4b53a836c601639728f0"
     }
    },
    "888226c23e6c48adb565b8aaf813064a": {
     "model_module": "@jupyter-widgets/controls",
     "model_name": "HTMLModel",
     "model_module_version": "1.5.0",
     "state": {
      "_dom_classes": [],
      "_model_module": "@jupyter-widgets/controls",
      "_model_module_version": "1.5.0",
      "_model_name": "HTMLModel",
      "_view_count": null,
      "_view_module": "@jupyter-widgets/controls",
      "_view_module_version": "1.5.0",
      "_view_name": "HTMLView",
      "description": "",
      "description_tooltip": null,
      "layout": "IPY_MODEL_9ff9a082d23445f385920347e51b75a5",
      "placeholder": "​",
      "style": "IPY_MODEL_55bf455faf5847af9d946329894c6adc",
      "value": "Downloading (…)okenizer_config.json: 100%"
     }
    },
    "d3de0e184fa54e058a86cf21ed74fd9c": {
     "model_module": "@jupyter-widgets/controls",
     "model_name": "FloatProgressModel",
     "model_module_version": "1.5.0",
     "state": {
      "_dom_classes": [],
      "_model_module": "@jupyter-widgets/controls",
      "_model_module_version": "1.5.0",
      "_model_name": "FloatProgressModel",
      "_view_count": null,
      "_view_module": "@jupyter-widgets/controls",
      "_view_module_version": "1.5.0",
      "_view_name": "ProgressView",
      "bar_style": "success",
      "description": "",
      "description_tooltip": null,
      "layout": "IPY_MODEL_23e52e51f4054a6d9c95184c540a49e5",
      "max": 28,
      "min": 0,
      "orientation": "horizontal",
      "style": "IPY_MODEL_13e6ed5452964f77ae6c7ca91b594a89",
      "value": 28
     }
    },
    "db1ccde9ee594637ad04ff94f500abae": {
     "model_module": "@jupyter-widgets/controls",
     "model_name": "HTMLModel",
     "model_module_version": "1.5.0",
     "state": {
      "_dom_classes": [],
      "_model_module": "@jupyter-widgets/controls",
      "_model_module_version": "1.5.0",
      "_model_name": "HTMLModel",
      "_view_count": null,
      "_view_module": "@jupyter-widgets/controls",
      "_view_module_version": "1.5.0",
      "_view_name": "HTMLView",
      "description": "",
      "description_tooltip": null,
      "layout": "IPY_MODEL_3bbbb7c67133484885ad9e3cfc3e9ef5",
      "placeholder": "​",
      "style": "IPY_MODEL_3ebc872d267c4f85aabf45bb6130ced5",
      "value": " 28.0/28.0 [00:00&lt;00:00, 2.07kB/s]"
     }
    },
    "24fb5499989a4b53a836c601639728f0": {
     "model_module": "@jupyter-widgets/base",
     "model_name": "LayoutModel",
     "model_module_version": "1.2.0",
     "state": {
      "_model_module": "@jupyter-widgets/base",
      "_model_module_version": "1.2.0",
      "_model_name": "LayoutModel",
      "_view_count": null,
      "_view_module": "@jupyter-widgets/base",
      "_view_module_version": "1.2.0",
      "_view_name": "LayoutView",
      "align_content": null,
      "align_items": null,
      "align_self": null,
      "border": null,
      "bottom": null,
      "display": null,
      "flex": null,
      "flex_flow": null,
      "grid_area": null,
      "grid_auto_columns": null,
      "grid_auto_flow": null,
      "grid_auto_rows": null,
      "grid_column": null,
      "grid_gap": null,
      "grid_row": null,
      "grid_template_areas": null,
      "grid_template_columns": null,
      "grid_template_rows": null,
      "height": null,
      "justify_content": null,
      "justify_items": null,
      "left": null,
      "margin": null,
      "max_height": null,
      "max_width": null,
      "min_height": null,
      "min_width": null,
      "object_fit": null,
      "object_position": null,
      "order": null,
      "overflow": null,
      "overflow_x": null,
      "overflow_y": null,
      "padding": null,
      "right": null,
      "top": null,
      "visibility": null,
      "width": null
     }
    },
    "9ff9a082d23445f385920347e51b75a5": {
     "model_module": "@jupyter-widgets/base",
     "model_name": "LayoutModel",
     "model_module_version": "1.2.0",
     "state": {
      "_model_module": "@jupyter-widgets/base",
      "_model_module_version": "1.2.0",
      "_model_name": "LayoutModel",
      "_view_count": null,
      "_view_module": "@jupyter-widgets/base",
      "_view_module_version": "1.2.0",
      "_view_name": "LayoutView",
      "align_content": null,
      "align_items": null,
      "align_self": null,
      "border": null,
      "bottom": null,
      "display": null,
      "flex": null,
      "flex_flow": null,
      "grid_area": null,
      "grid_auto_columns": null,
      "grid_auto_flow": null,
      "grid_auto_rows": null,
      "grid_column": null,
      "grid_gap": null,
      "grid_row": null,
      "grid_template_areas": null,
      "grid_template_columns": null,
      "grid_template_rows": null,
      "height": null,
      "justify_content": null,
      "justify_items": null,
      "left": null,
      "margin": null,
      "max_height": null,
      "max_width": null,
      "min_height": null,
      "min_width": null,
      "object_fit": null,
      "object_position": null,
      "order": null,
      "overflow": null,
      "overflow_x": null,
      "overflow_y": null,
      "padding": null,
      "right": null,
      "top": null,
      "visibility": null,
      "width": null
     }
    },
    "55bf455faf5847af9d946329894c6adc": {
     "model_module": "@jupyter-widgets/controls",
     "model_name": "DescriptionStyleModel",
     "model_module_version": "1.5.0",
     "state": {
      "_model_module": "@jupyter-widgets/controls",
      "_model_module_version": "1.5.0",
      "_model_name": "DescriptionStyleModel",
      "_view_count": null,
      "_view_module": "@jupyter-widgets/base",
      "_view_module_version": "1.2.0",
      "_view_name": "StyleView",
      "description_width": ""
     }
    },
    "23e52e51f4054a6d9c95184c540a49e5": {
     "model_module": "@jupyter-widgets/base",
     "model_name": "LayoutModel",
     "model_module_version": "1.2.0",
     "state": {
      "_model_module": "@jupyter-widgets/base",
      "_model_module_version": "1.2.0",
      "_model_name": "LayoutModel",
      "_view_count": null,
      "_view_module": "@jupyter-widgets/base",
      "_view_module_version": "1.2.0",
      "_view_name": "LayoutView",
      "align_content": null,
      "align_items": null,
      "align_self": null,
      "border": null,
      "bottom": null,
      "display": null,
      "flex": null,
      "flex_flow": null,
      "grid_area": null,
      "grid_auto_columns": null,
      "grid_auto_flow": null,
      "grid_auto_rows": null,
      "grid_column": null,
      "grid_gap": null,
      "grid_row": null,
      "grid_template_areas": null,
      "grid_template_columns": null,
      "grid_template_rows": null,
      "height": null,
      "justify_content": null,
      "justify_items": null,
      "left": null,
      "margin": null,
      "max_height": null,
      "max_width": null,
      "min_height": null,
      "min_width": null,
      "object_fit": null,
      "object_position": null,
      "order": null,
      "overflow": null,
      "overflow_x": null,
      "overflow_y": null,
      "padding": null,
      "right": null,
      "top": null,
      "visibility": null,
      "width": null
     }
    },
    "13e6ed5452964f77ae6c7ca91b594a89": {
     "model_module": "@jupyter-widgets/controls",
     "model_name": "ProgressStyleModel",
     "model_module_version": "1.5.0",
     "state": {
      "_model_module": "@jupyter-widgets/controls",
      "_model_module_version": "1.5.0",
      "_model_name": "ProgressStyleModel",
      "_view_count": null,
      "_view_module": "@jupyter-widgets/base",
      "_view_module_version": "1.2.0",
      "_view_name": "StyleView",
      "bar_color": null,
      "description_width": ""
     }
    },
    "3bbbb7c67133484885ad9e3cfc3e9ef5": {
     "model_module": "@jupyter-widgets/base",
     "model_name": "LayoutModel",
     "model_module_version": "1.2.0",
     "state": {
      "_model_module": "@jupyter-widgets/base",
      "_model_module_version": "1.2.0",
      "_model_name": "LayoutModel",
      "_view_count": null,
      "_view_module": "@jupyter-widgets/base",
      "_view_module_version": "1.2.0",
      "_view_name": "LayoutView",
      "align_content": null,
      "align_items": null,
      "align_self": null,
      "border": null,
      "bottom": null,
      "display": null,
      "flex": null,
      "flex_flow": null,
      "grid_area": null,
      "grid_auto_columns": null,
      "grid_auto_flow": null,
      "grid_auto_rows": null,
      "grid_column": null,
      "grid_gap": null,
      "grid_row": null,
      "grid_template_areas": null,
      "grid_template_columns": null,
      "grid_template_rows": null,
      "height": null,
      "justify_content": null,
      "justify_items": null,
      "left": null,
      "margin": null,
      "max_height": null,
      "max_width": null,
      "min_height": null,
      "min_width": null,
      "object_fit": null,
      "object_position": null,
      "order": null,
      "overflow": null,
      "overflow_x": null,
      "overflow_y": null,
      "padding": null,
      "right": null,
      "top": null,
      "visibility": null,
      "width": null
     }
    },
    "3ebc872d267c4f85aabf45bb6130ced5": {
     "model_module": "@jupyter-widgets/controls",
     "model_name": "DescriptionStyleModel",
     "model_module_version": "1.5.0",
     "state": {
      "_model_module": "@jupyter-widgets/controls",
      "_model_module_version": "1.5.0",
      "_model_name": "DescriptionStyleModel",
      "_view_count": null,
      "_view_module": "@jupyter-widgets/base",
      "_view_module_version": "1.2.0",
      "_view_name": "StyleView",
      "description_width": ""
     }
    },
    "520b231e7c994a3db545fa419c7a109f": {
     "model_module": "@jupyter-widgets/controls",
     "model_name": "HBoxModel",
     "model_module_version": "1.5.0",
     "state": {
      "_dom_classes": [],
      "_model_module": "@jupyter-widgets/controls",
      "_model_module_version": "1.5.0",
      "_model_name": "HBoxModel",
      "_view_count": null,
      "_view_module": "@jupyter-widgets/controls",
      "_view_module_version": "1.5.0",
      "_view_name": "HBoxView",
      "box_style": "",
      "children": [
       "IPY_MODEL_91019516844f498883a16bb7cf183786",
       "IPY_MODEL_c279fb83c9664697b5c4a88cb6d1cfd1",
       "IPY_MODEL_bd9bc1c2e432424fa9c0e70b9983efe5"
      ],
      "layout": "IPY_MODEL_da3fd1d14dcf4459a2b082fb4bc14925"
     }
    },
    "91019516844f498883a16bb7cf183786": {
     "model_module": "@jupyter-widgets/controls",
     "model_name": "HTMLModel",
     "model_module_version": "1.5.0",
     "state": {
      "_dom_classes": [],
      "_model_module": "@jupyter-widgets/controls",
      "_model_module_version": "1.5.0",
      "_model_name": "HTMLModel",
      "_view_count": null,
      "_view_module": "@jupyter-widgets/controls",
      "_view_module_version": "1.5.0",
      "_view_name": "HTMLView",
      "description": "",
      "description_tooltip": null,
      "layout": "IPY_MODEL_4ee6e400ba004592a3d147df17ffebc8",
      "placeholder": "​",
      "style": "IPY_MODEL_e20ca3a10cba4944821bed88763316ad",
      "value": "Downloading (…)lve/main/config.json: 100%"
     }
    },
    "c279fb83c9664697b5c4a88cb6d1cfd1": {
     "model_module": "@jupyter-widgets/controls",
     "model_name": "FloatProgressModel",
     "model_module_version": "1.5.0",
     "state": {
      "_dom_classes": [],
      "_model_module": "@jupyter-widgets/controls",
      "_model_module_version": "1.5.0",
      "_model_name": "FloatProgressModel",
      "_view_count": null,
      "_view_module": "@jupyter-widgets/controls",
      "_view_module_version": "1.5.0",
      "_view_name": "ProgressView",
      "bar_style": "success",
      "description": "",
      "description_tooltip": null,
      "layout": "IPY_MODEL_edebefb896c046f892e4ca15d63a4f09",
      "max": 570,
      "min": 0,
      "orientation": "horizontal",
      "style": "IPY_MODEL_7fd3f92805614d4c91e0f4ea4c56fd74",
      "value": 570
     }
    },
    "bd9bc1c2e432424fa9c0e70b9983efe5": {
     "model_module": "@jupyter-widgets/controls",
     "model_name": "HTMLModel",
     "model_module_version": "1.5.0",
     "state": {
      "_dom_classes": [],
      "_model_module": "@jupyter-widgets/controls",
      "_model_module_version": "1.5.0",
      "_model_name": "HTMLModel",
      "_view_count": null,
      "_view_module": "@jupyter-widgets/controls",
      "_view_module_version": "1.5.0",
      "_view_name": "HTMLView",
      "description": "",
      "description_tooltip": null,
      "layout": "IPY_MODEL_92ce98e24106427ba354ce3365ea954e",
      "placeholder": "​",
      "style": "IPY_MODEL_f88217bbd6444c32b5e82a437c15c96a",
      "value": " 570/570 [00:00&lt;00:00, 46.5kB/s]"
     }
    },
    "da3fd1d14dcf4459a2b082fb4bc14925": {
     "model_module": "@jupyter-widgets/base",
     "model_name": "LayoutModel",
     "model_module_version": "1.2.0",
     "state": {
      "_model_module": "@jupyter-widgets/base",
      "_model_module_version": "1.2.0",
      "_model_name": "LayoutModel",
      "_view_count": null,
      "_view_module": "@jupyter-widgets/base",
      "_view_module_version": "1.2.0",
      "_view_name": "LayoutView",
      "align_content": null,
      "align_items": null,
      "align_self": null,
      "border": null,
      "bottom": null,
      "display": null,
      "flex": null,
      "flex_flow": null,
      "grid_area": null,
      "grid_auto_columns": null,
      "grid_auto_flow": null,
      "grid_auto_rows": null,
      "grid_column": null,
      "grid_gap": null,
      "grid_row": null,
      "grid_template_areas": null,
      "grid_template_columns": null,
      "grid_template_rows": null,
      "height": null,
      "justify_content": null,
      "justify_items": null,
      "left": null,
      "margin": null,
      "max_height": null,
      "max_width": null,
      "min_height": null,
      "min_width": null,
      "object_fit": null,
      "object_position": null,
      "order": null,
      "overflow": null,
      "overflow_x": null,
      "overflow_y": null,
      "padding": null,
      "right": null,
      "top": null,
      "visibility": null,
      "width": null
     }
    },
    "4ee6e400ba004592a3d147df17ffebc8": {
     "model_module": "@jupyter-widgets/base",
     "model_name": "LayoutModel",
     "model_module_version": "1.2.0",
     "state": {
      "_model_module": "@jupyter-widgets/base",
      "_model_module_version": "1.2.0",
      "_model_name": "LayoutModel",
      "_view_count": null,
      "_view_module": "@jupyter-widgets/base",
      "_view_module_version": "1.2.0",
      "_view_name": "LayoutView",
      "align_content": null,
      "align_items": null,
      "align_self": null,
      "border": null,
      "bottom": null,
      "display": null,
      "flex": null,
      "flex_flow": null,
      "grid_area": null,
      "grid_auto_columns": null,
      "grid_auto_flow": null,
      "grid_auto_rows": null,
      "grid_column": null,
      "grid_gap": null,
      "grid_row": null,
      "grid_template_areas": null,
      "grid_template_columns": null,
      "grid_template_rows": null,
      "height": null,
      "justify_content": null,
      "justify_items": null,
      "left": null,
      "margin": null,
      "max_height": null,
      "max_width": null,
      "min_height": null,
      "min_width": null,
      "object_fit": null,
      "object_position": null,
      "order": null,
      "overflow": null,
      "overflow_x": null,
      "overflow_y": null,
      "padding": null,
      "right": null,
      "top": null,
      "visibility": null,
      "width": null
     }
    },
    "e20ca3a10cba4944821bed88763316ad": {
     "model_module": "@jupyter-widgets/controls",
     "model_name": "DescriptionStyleModel",
     "model_module_version": "1.5.0",
     "state": {
      "_model_module": "@jupyter-widgets/controls",
      "_model_module_version": "1.5.0",
      "_model_name": "DescriptionStyleModel",
      "_view_count": null,
      "_view_module": "@jupyter-widgets/base",
      "_view_module_version": "1.2.0",
      "_view_name": "StyleView",
      "description_width": ""
     }
    },
    "edebefb896c046f892e4ca15d63a4f09": {
     "model_module": "@jupyter-widgets/base",
     "model_name": "LayoutModel",
     "model_module_version": "1.2.0",
     "state": {
      "_model_module": "@jupyter-widgets/base",
      "_model_module_version": "1.2.0",
      "_model_name": "LayoutModel",
      "_view_count": null,
      "_view_module": "@jupyter-widgets/base",
      "_view_module_version": "1.2.0",
      "_view_name": "LayoutView",
      "align_content": null,
      "align_items": null,
      "align_self": null,
      "border": null,
      "bottom": null,
      "display": null,
      "flex": null,
      "flex_flow": null,
      "grid_area": null,
      "grid_auto_columns": null,
      "grid_auto_flow": null,
      "grid_auto_rows": null,
      "grid_column": null,
      "grid_gap": null,
      "grid_row": null,
      "grid_template_areas": null,
      "grid_template_columns": null,
      "grid_template_rows": null,
      "height": null,
      "justify_content": null,
      "justify_items": null,
      "left": null,
      "margin": null,
      "max_height": null,
      "max_width": null,
      "min_height": null,
      "min_width": null,
      "object_fit": null,
      "object_position": null,
      "order": null,
      "overflow": null,
      "overflow_x": null,
      "overflow_y": null,
      "padding": null,
      "right": null,
      "top": null,
      "visibility": null,
      "width": null
     }
    },
    "7fd3f92805614d4c91e0f4ea4c56fd74": {
     "model_module": "@jupyter-widgets/controls",
     "model_name": "ProgressStyleModel",
     "model_module_version": "1.5.0",
     "state": {
      "_model_module": "@jupyter-widgets/controls",
      "_model_module_version": "1.5.0",
      "_model_name": "ProgressStyleModel",
      "_view_count": null,
      "_view_module": "@jupyter-widgets/base",
      "_view_module_version": "1.2.0",
      "_view_name": "StyleView",
      "bar_color": null,
      "description_width": ""
     }
    },
    "92ce98e24106427ba354ce3365ea954e": {
     "model_module": "@jupyter-widgets/base",
     "model_name": "LayoutModel",
     "model_module_version": "1.2.0",
     "state": {
      "_model_module": "@jupyter-widgets/base",
      "_model_module_version": "1.2.0",
      "_model_name": "LayoutModel",
      "_view_count": null,
      "_view_module": "@jupyter-widgets/base",
      "_view_module_version": "1.2.0",
      "_view_name": "LayoutView",
      "align_content": null,
      "align_items": null,
      "align_self": null,
      "border": null,
      "bottom": null,
      "display": null,
      "flex": null,
      "flex_flow": null,
      "grid_area": null,
      "grid_auto_columns": null,
      "grid_auto_flow": null,
      "grid_auto_rows": null,
      "grid_column": null,
      "grid_gap": null,
      "grid_row": null,
      "grid_template_areas": null,
      "grid_template_columns": null,
      "grid_template_rows": null,
      "height": null,
      "justify_content": null,
      "justify_items": null,
      "left": null,
      "margin": null,
      "max_height": null,
      "max_width": null,
      "min_height": null,
      "min_width": null,
      "object_fit": null,
      "object_position": null,
      "order": null,
      "overflow": null,
      "overflow_x": null,
      "overflow_y": null,
      "padding": null,
      "right": null,
      "top": null,
      "visibility": null,
      "width": null
     }
    },
    "f88217bbd6444c32b5e82a437c15c96a": {
     "model_module": "@jupyter-widgets/controls",
     "model_name": "DescriptionStyleModel",
     "model_module_version": "1.5.0",
     "state": {
      "_model_module": "@jupyter-widgets/controls",
      "_model_module_version": "1.5.0",
      "_model_name": "DescriptionStyleModel",
      "_view_count": null,
      "_view_module": "@jupyter-widgets/base",
      "_view_module_version": "1.2.0",
      "_view_name": "StyleView",
      "description_width": ""
     }
    },
    "48bb9cf5acf34efdacabc76a9a4d22cc": {
     "model_module": "@jupyter-widgets/controls",
     "model_name": "HBoxModel",
     "model_module_version": "1.5.0",
     "state": {
      "_dom_classes": [],
      "_model_module": "@jupyter-widgets/controls",
      "_model_module_version": "1.5.0",
      "_model_name": "HBoxModel",
      "_view_count": null,
      "_view_module": "@jupyter-widgets/controls",
      "_view_module_version": "1.5.0",
      "_view_name": "HBoxView",
      "box_style": "",
      "children": [
       "IPY_MODEL_4ed03dfb12174d6e8d4f2aae17d6e621",
       "IPY_MODEL_4f89231a2f3d487fba152c34d31b86b2",
       "IPY_MODEL_8dd7b4e50c8d481c8e9ec7594cd4e278"
      ],
      "layout": "IPY_MODEL_816deea353f04b5a82a583534ede145b"
     }
    },
    "4ed03dfb12174d6e8d4f2aae17d6e621": {
     "model_module": "@jupyter-widgets/controls",
     "model_name": "HTMLModel",
     "model_module_version": "1.5.0",
     "state": {
      "_dom_classes": [],
      "_model_module": "@jupyter-widgets/controls",
      "_model_module_version": "1.5.0",
      "_model_name": "HTMLModel",
      "_view_count": null,
      "_view_module": "@jupyter-widgets/controls",
      "_view_module_version": "1.5.0",
      "_view_name": "HTMLView",
      "description": "",
      "description_tooltip": null,
      "layout": "IPY_MODEL_808926da69f049f3a3515df0b12f0ffa",
      "placeholder": "​",
      "style": "IPY_MODEL_16ebf54919104685bdc2200d9365df45",
      "value": "Downloading pytorch_model.bin: 100%"
     }
    },
    "4f89231a2f3d487fba152c34d31b86b2": {
     "model_module": "@jupyter-widgets/controls",
     "model_name": "FloatProgressModel",
     "model_module_version": "1.5.0",
     "state": {
      "_dom_classes": [],
      "_model_module": "@jupyter-widgets/controls",
      "_model_module_version": "1.5.0",
      "_model_name": "FloatProgressModel",
      "_view_count": null,
      "_view_module": "@jupyter-widgets/controls",
      "_view_module_version": "1.5.0",
      "_view_name": "ProgressView",
      "bar_style": "success",
      "description": "",
      "description_tooltip": null,
      "layout": "IPY_MODEL_891c685755c4494faa35ec81caaa89a8",
      "max": 437996231,
      "min": 0,
      "orientation": "horizontal",
      "style": "IPY_MODEL_170c095fa2ad4f41b5782cf22667d628",
      "value": 437996231
     }
    },
    "8dd7b4e50c8d481c8e9ec7594cd4e278": {
     "model_module": "@jupyter-widgets/controls",
     "model_name": "HTMLModel",
     "model_module_version": "1.5.0",
     "state": {
      "_dom_classes": [],
      "_model_module": "@jupyter-widgets/controls",
      "_model_module_version": "1.5.0",
      "_model_name": "HTMLModel",
      "_view_count": null,
      "_view_module": "@jupyter-widgets/controls",
      "_view_module_version": "1.5.0",
      "_view_name": "HTMLView",
      "description": "",
      "description_tooltip": null,
      "layout": "IPY_MODEL_882575bbcce44e50b5b555e26443eee3",
      "placeholder": "​",
      "style": "IPY_MODEL_5ec1fa7f9a024af9bf9029428c40e6f7",
      "value": " 438M/438M [00:37&lt;00:00, 9.05MB/s]"
     }
    },
    "816deea353f04b5a82a583534ede145b": {
     "model_module": "@jupyter-widgets/base",
     "model_name": "LayoutModel",
     "model_module_version": "1.2.0",
     "state": {
      "_model_module": "@jupyter-widgets/base",
      "_model_module_version": "1.2.0",
      "_model_name": "LayoutModel",
      "_view_count": null,
      "_view_module": "@jupyter-widgets/base",
      "_view_module_version": "1.2.0",
      "_view_name": "LayoutView",
      "align_content": null,
      "align_items": null,
      "align_self": null,
      "border": null,
      "bottom": null,
      "display": null,
      "flex": null,
      "flex_flow": null,
      "grid_area": null,
      "grid_auto_columns": null,
      "grid_auto_flow": null,
      "grid_auto_rows": null,
      "grid_column": null,
      "grid_gap": null,
      "grid_row": null,
      "grid_template_areas": null,
      "grid_template_columns": null,
      "grid_template_rows": null,
      "height": null,
      "justify_content": null,
      "justify_items": null,
      "left": null,
      "margin": null,
      "max_height": null,
      "max_width": null,
      "min_height": null,
      "min_width": null,
      "object_fit": null,
      "object_position": null,
      "order": null,
      "overflow": null,
      "overflow_x": null,
      "overflow_y": null,
      "padding": null,
      "right": null,
      "top": null,
      "visibility": null,
      "width": null
     }
    },
    "808926da69f049f3a3515df0b12f0ffa": {
     "model_module": "@jupyter-widgets/base",
     "model_name": "LayoutModel",
     "model_module_version": "1.2.0",
     "state": {
      "_model_module": "@jupyter-widgets/base",
      "_model_module_version": "1.2.0",
      "_model_name": "LayoutModel",
      "_view_count": null,
      "_view_module": "@jupyter-widgets/base",
      "_view_module_version": "1.2.0",
      "_view_name": "LayoutView",
      "align_content": null,
      "align_items": null,
      "align_self": null,
      "border": null,
      "bottom": null,
      "display": null,
      "flex": null,
      "flex_flow": null,
      "grid_area": null,
      "grid_auto_columns": null,
      "grid_auto_flow": null,
      "grid_auto_rows": null,
      "grid_column": null,
      "grid_gap": null,
      "grid_row": null,
      "grid_template_areas": null,
      "grid_template_columns": null,
      "grid_template_rows": null,
      "height": null,
      "justify_content": null,
      "justify_items": null,
      "left": null,
      "margin": null,
      "max_height": null,
      "max_width": null,
      "min_height": null,
      "min_width": null,
      "object_fit": null,
      "object_position": null,
      "order": null,
      "overflow": null,
      "overflow_x": null,
      "overflow_y": null,
      "padding": null,
      "right": null,
      "top": null,
      "visibility": null,
      "width": null
     }
    },
    "16ebf54919104685bdc2200d9365df45": {
     "model_module": "@jupyter-widgets/controls",
     "model_name": "DescriptionStyleModel",
     "model_module_version": "1.5.0",
     "state": {
      "_model_module": "@jupyter-widgets/controls",
      "_model_module_version": "1.5.0",
      "_model_name": "DescriptionStyleModel",
      "_view_count": null,
      "_view_module": "@jupyter-widgets/base",
      "_view_module_version": "1.2.0",
      "_view_name": "StyleView",
      "description_width": ""
     }
    },
    "891c685755c4494faa35ec81caaa89a8": {
     "model_module": "@jupyter-widgets/base",
     "model_name": "LayoutModel",
     "model_module_version": "1.2.0",
     "state": {
      "_model_module": "@jupyter-widgets/base",
      "_model_module_version": "1.2.0",
      "_model_name": "LayoutModel",
      "_view_count": null,
      "_view_module": "@jupyter-widgets/base",
      "_view_module_version": "1.2.0",
      "_view_name": "LayoutView",
      "align_content": null,
      "align_items": null,
      "align_self": null,
      "border": null,
      "bottom": null,
      "display": null,
      "flex": null,
      "flex_flow": null,
      "grid_area": null,
      "grid_auto_columns": null,
      "grid_auto_flow": null,
      "grid_auto_rows": null,
      "grid_column": null,
      "grid_gap": null,
      "grid_row": null,
      "grid_template_areas": null,
      "grid_template_columns": null,
      "grid_template_rows": null,
      "height": null,
      "justify_content": null,
      "justify_items": null,
      "left": null,
      "margin": null,
      "max_height": null,
      "max_width": null,
      "min_height": null,
      "min_width": null,
      "object_fit": null,
      "object_position": null,
      "order": null,
      "overflow": null,
      "overflow_x": null,
      "overflow_y": null,
      "padding": null,
      "right": null,
      "top": null,
      "visibility": null,
      "width": null
     }
    },
    "170c095fa2ad4f41b5782cf22667d628": {
     "model_module": "@jupyter-widgets/controls",
     "model_name": "ProgressStyleModel",
     "model_module_version": "1.5.0",
     "state": {
      "_model_module": "@jupyter-widgets/controls",
      "_model_module_version": "1.5.0",
      "_model_name": "ProgressStyleModel",
      "_view_count": null,
      "_view_module": "@jupyter-widgets/base",
      "_view_module_version": "1.2.0",
      "_view_name": "StyleView",
      "bar_color": null,
      "description_width": ""
     }
    },
    "882575bbcce44e50b5b555e26443eee3": {
     "model_module": "@jupyter-widgets/base",
     "model_name": "LayoutModel",
     "model_module_version": "1.2.0",
     "state": {
      "_model_module": "@jupyter-widgets/base",
      "_model_module_version": "1.2.0",
      "_model_name": "LayoutModel",
      "_view_count": null,
      "_view_module": "@jupyter-widgets/base",
      "_view_module_version": "1.2.0",
      "_view_name": "LayoutView",
      "align_content": null,
      "align_items": null,
      "align_self": null,
      "border": null,
      "bottom": null,
      "display": null,
      "flex": null,
      "flex_flow": null,
      "grid_area": null,
      "grid_auto_columns": null,
      "grid_auto_flow": null,
      "grid_auto_rows": null,
      "grid_column": null,
      "grid_gap": null,
      "grid_row": null,
      "grid_template_areas": null,
      "grid_template_columns": null,
      "grid_template_rows": null,
      "height": null,
      "justify_content": null,
      "justify_items": null,
      "left": null,
      "margin": null,
      "max_height": null,
      "max_width": null,
      "min_height": null,
      "min_width": null,
      "object_fit": null,
      "object_position": null,
      "order": null,
      "overflow": null,
      "overflow_x": null,
      "overflow_y": null,
      "padding": null,
      "right": null,
      "top": null,
      "visibility": null,
      "width": null
     }
    },
    "5ec1fa7f9a024af9bf9029428c40e6f7": {
     "model_module": "@jupyter-widgets/controls",
     "model_name": "DescriptionStyleModel",
     "model_module_version": "1.5.0",
     "state": {
      "_model_module": "@jupyter-widgets/controls",
      "_model_module_version": "1.5.0",
      "_model_name": "DescriptionStyleModel",
      "_view_count": null,
      "_view_module": "@jupyter-widgets/base",
      "_view_module_version": "1.2.0",
      "_view_name": "StyleView",
      "description_width": ""
     }
    }
   }
  }
 },
 "nbformat": 4,
 "nbformat_minor": 0
}
